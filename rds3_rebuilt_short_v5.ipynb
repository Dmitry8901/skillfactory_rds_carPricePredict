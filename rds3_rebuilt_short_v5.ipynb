{
 "cells": [
  {
   "cell_type": "markdown",
   "metadata": {},
   "source": [
    "# Предсказание цен на автомобили реального рынка\n",
    "\n",
    "- Денис Рыжов (denis.a.ryzhov@gmail.com)\n",
    "- Дмитрий Коробов (Pls.mailbox@gmail.com)\n",
    "- Дмитрий Копылов (kopiloff.dmitry@yandex.ru)"
   ]
  },
  {
   "cell_type": "markdown",
   "metadata": {},
   "source": [
    "По условиям задачи: \n",
    "- нельзя пользоваться нейросетями\n",
    "- данные должны быть либо взяты из общего доступа, либо скачаны, но не куплены.\n",
    "- использовать стекинг\n",
    "\n",
    "Важно:\n",
    "\n",
    "- качество предсказания;\n",
    "- скорость предсказания;\n",
    "- время обучения."
   ]
  },
  {
   "cell_type": "markdown",
   "metadata": {},
   "source": [
    "## Краткий отчёт\n",
    "\n",
    "Работа состояла из 4 этапов:\n",
    "\n",
    "1. Добыча данных (Data mining)\n",
    "2. Анализ данных, подготовка и конструирование признаков (EDA and Feature engineering)\n",
    "3. Исследование, выбор схемы и настройка моделей (Investigation, choice of prediction scheme and model adjustment)\n",
    "4. Реализация предсказателя для конкретной задачи (предсказание цен ан BMW)"
   ]
  },
  {
   "cell_type": "markdown",
   "metadata": {},
   "source": [
    "Данные для обучения моделей были скачаны с сайта *avto.ru*, распарсены и переведы в таблицу *csv*.\n",
    "\n",
    "**Важно:** В качестве целевой переменной использовалась степень логарифма цены (степень равна 2/3). Такой подход позволил улучшить предсказания на несколько процентов MAPE.\n",
    "Преобразование позволило сделать распределение целевого признака существенно равномернее. Степень логарифма подбиралась из соображений: свести медиану и среднего нового распределения к центру интервала изменения переменных (справа и слева от центра интервала — примерно равное число признаков). \n",
    "\n",
    "Определена функция метрики, рассчитывающая **MAPE в процентах**.е, выбор схемы и настройка моделей (Investigation, choice of prediction scheme and model adjustment)\n",
    "\n",
    "Общей схемой построения предсказателя была выбрана двухступенчатая модель стекинга. В качестве как базовых, так и мета моделей рассматривались:\n",
    "- `DecisionTreeRegressor`\n",
    "- `RandomForestRegressor`\n",
    "- `LightGBM`\n",
    "- `CatBoostRegressor`\n",
    "- `LinearRegression` (только как мета-модель — блендинг)\n",
    "\n",
    "`RandomForestRegressor`, `LightGBM`, `CatBoostRegressor` оптимизировались по гиперпараметрам при помощи циклической покоординатной оптимизации:\n",
    "\n",
    "Пока не достигался заданный максимальный уровень изменения метрики (`tolerance`=0.0001% для MAPE) осуществлялся циклический поиск минимума в пространстве гиперпараметров поиском минимума. Минимум искался на сетке по каждой координате внутри цикла. Каждый цикл осуществлял сужение диапазона поиска центрируясь на достигнутом на данном момент точки минимума. *Сейчас поиск сужен до двух последних циклов, поскольку в полной версии (на широком диапазоне) занимал существенное время.*\n",
    "\n",
    "\n",
    "\n",
    "В качестве базовых моделей для стекинга рассматривались 4 упомянутые выше модели. Исследование их по параметрам, а также рассмотрение различных комбинаций в качестве «связки» базовых моделей показало, что в нашем случае будет использование нескольких моделей LightGBM с последующим мета-предсказанием ещё одной моделью LightGBM.\n",
    "\n",
    "\n",
    "Исследование признаков при помощи метода `feature_importance` позволило избавиться на этапе построения базовых моделей от не значащих признаков.\n",
    "\n",
    "Поскольку для предсказания данных выдан набор данных состоящий только из автомобилей BMW, то при реализации предсказателя из обучающего набора отобраны только BMW, ибо нет смысла для предсказания цен на BMW обучать модель на Ладах-Грантах и т.п. Данные обучающей и предоставленной внешней выборки приведены в сооотвестствии друг с другом, созданная модель обучена на обучающей выборке, содержащей только машины BMW, предсказана цена для внешних данных, \"предоставленных заказчиком\".\n",
    "\n",
    "Как показали исследования, очень важны данные. Самим данным присуща довольна большая дисперсия, а их для финального предсказания всё же маловато - 6985. Важны и признаки - удаление самого млозначимого (по `feature importance` ~0.037%) признака приводит к ухудшение MAPE на 0.2%."
   ]
  },
  {
   "cell_type": "markdown",
   "metadata": {},
   "source": [
    "### Итог\n",
    "\n",
    "Предсказание строится оптимизированной по гиперпараметрам моделью LightGBM."
   ]
  },
  {
   "cell_type": "markdown",
   "metadata": {},
   "source": [
    "### Мораль\n",
    "\n",
    "Если бы не застряли так глубоко в общем случае, а просто аккуратно прочли ТЗ и сразу бы, а не в последний день поняли, что предсказывать надо только BMW, наверняка столь же тщательно проанализировав данные только для BMW, мы бы заметно улучшили показатели. Да и необходимых дополнительных признаков распарсили бы больше.\n",
    "\n",
    "**Ergo:**\n",
    "\n",
    "- **ТЗ надо читать внимательно**\n",
    "- **читать надо всем**\n",
    "- **а потом всем вместе и вслух**\n",
    "- **и минимум дважды в неделю перечитывать**\n",
    "\n",
    "        `Amen`"
   ]
  },
  {
   "cell_type": "markdown",
   "metadata": {},
   "source": [
    "## Структура всего проекта\n",
    "\n",
    "(Полную исследовательскую версию см. на [гитхабе](https://github.com/DenisRyzhov/SkillFactory-Study) - `rds3_rebuilt_comprehensive.ipynb`).\n",
    "\n",
    "\n",
    "    1. Подготовка\n",
    "        1.1 Загрузка модулей, определение констант и т.п.\n",
    "        1.2 Загрузка данных\n",
    "    2 Общая информация\n",
    "        2.1 Дубликаты\n",
    "        2.2 Пропуски\n",
    "    3 Исследование признаков \n",
    "        3.1 Анализ численных переменных обучающей выборки\n",
    "            3.1.0 Целевой признак ('price')\n",
    "            3.1.1 Численные признаки\n",
    "        3.2 Анализ категориальных признаков  обучающей выборки\n",
    "            3.2.1 Упорядоченные категориальные признаки (Ordinal features)\n",
    "            3.2.2 Категориальные 'one-hot' признаки\n",
    "    4 Преобразование данных\n",
    "        4.1 Преобразование типа данных\n",
    "        4.2 Преобразование *One-Hot* переменных\n",
    "        4.3 Преобразование *Ordinal* переменных\n",
    "        4.4 Масштабирование численных переменных\n",
    "    5 Prelaunch\n",
    "        5.0 Target transformation\n",
    "        5.1 Metrics function (MAPE)\n",
    "        5.2 Features and target. Samples.\n",
    "        5.3 Model optimizer\n",
    "    6 Optimization of base models\n",
    "        6.1 LightGBM with default parameters\n",
    "        6.2 Optimization of base models (*LGBMRegressor*)\n",
    "        6.3 Collection of nearly best base models for meta-phase\n",
    "        6.4 About the best base model. Feature importance.\n",
    "        6.5 Averaged over $\\sqrt{N}$ and $N$ best models prediction (*LGBMRegressor*)\n",
    "    7 STACKING\n",
    "        7.1 BLENDING\n",
    "            7.1.1 Average prediction (Bagging)\n",
    "            7.1.2 Weighted average prediction  (*LinearRegression*)\n",
    "        7.2 Stacking  with LightGBM\n",
    "            7.2.1 Optimization of  meta model\n",
    "            7.2.2 Collect an ensemle of nearly best meta models\n",
    "            7.2.3. About the best meta model. Feature importance.\n",
    "        7.3 Averaged over $\\sqrt{N}$ and $N$ best meta models prediction (*LGBMRegressor*)    \n",
    "    8 Приведение в соответствие признаков обучающей и внешней тестовой выборок\n",
    "\t\t8.1 Приведение в соответствие признаков обучающей и внешней тестовой выборок\n",
    "\t\t8.2 Извлечение данных из признака 'Комплектация'\n",
    "\t\t8.3 Приведение в соотвествие типов данных\n",
    "\t\t8.4 Создание \"заточенного\" под BMW обучающего набора\n",
    "    9 Реализация предсказателя для конкретной задачи - предсказание цен на BMW (Estimator realization for BMW price prediction)\n",
    "\t\t9.1 Создание обучающей и прочих выборок\n",
    "\t\t9.2 Оптимизация конкретного предсказателя\n",
    "\t\t9.3 Создание набора базовых моделей для мета-стадии\n",
    "\t\t9.4 About the best 'BMW' base model. Feature importance.\n",
    "\t\t9.5 Мета-фаза. Bagging.\n",
    "\t\t9.6 Итоговое предсказание\n",
    "    99 Results\n",
    "    Appendix: Что ещё можно было бы сделать\n",
    "        VERSIONS"
   ]
  },
  {
   "cell_type": "markdown",
   "metadata": {},
   "source": [
    "<div class=\"alert alert-block alert-danger\">   \n",
    "\n",
    "    IN THIS SHORT VERSION OMITTED:\n",
    "        (SEE COMREHENSIVE VERSION FOR DETAILS: )\n",
    "\n",
    "    3 Исследование признаков\n",
    "        3.1 Анализ численных переменных\n",
    "            3.1.0 Целевой признак ('price')\n",
    "            3.1.1 Численные признаки\n",
    "        3.2 Категориальные признаки\n",
    "            3.2.1 Упорядоченные категориальные признаки (Ordinal features)\n",
    "            3.2.2 Категориальные 'one-hot' признаки\n",
    "        4.2 Преобразование *One-Hot* переменных\n",
    "        4.3 Преобразование *Ordinal* переменных\n",
    "        4.4 Масштабирование численных переменных\n",
    "        5.2 Features and target. Samples.\n",
    "        6.1 LightGBM with default parameters\n",
    "        6.2 Optimization of base models (*LGBMRegressor*)\n",
    "        6.4 About the best base model. Feature importance.\n",
    "        6.5 Averaged over $\\sqrt{N}$ and $N$ best models prediction (*LGBMRegressor*)\n",
    "    7 STACKING\n",
    "        7.1 BLENDING\n",
    "            7.1.1 Average prediction (Bagging)\n",
    "            7.1.2 Weighted average prediction  (*LinearRegression*)\n",
    "        7.2 Stacking  with LightGBM\n",
    "            7.2.1 Optimization of meta model\n",
    "            7.2.2 Collect an ensemle of nearly best meta models\n",
    "            7.2.3. About the best meta model. Feature importance.\n",
    "        7.3 Averaged over $\\sqrt{N}$ and $N$ best meta models prediction (*LGBMRegressor*)\n",
    "        9.5 Мета-фаза. Bagging.\n",
    "    VERSIONS"
   ]
  },
  {
   "cell_type": "code",
   "execution_count": 1,
   "metadata": {},
   "outputs": [],
   "source": [
    "### VERSIONS OF LIBRARIES\n",
    "\n",
    "# !pip freeze\n",
    "\n",
    "# python==3.7.7\n",
    "# python : datetime, time, warnings\n",
    "\n",
    "# catboost==0.23\n",
    "# lightgbm==2.3.0\n",
    "# matplotlib==3.2.2\n",
    "# numpy==1.18.5\n",
    "# pandas==1.0.5\n",
    "# scipy==1.5.0\n",
    "# seaborn==0.10.1\n",
    "# sklearn==0.23.1"
   ]
  },
  {
   "cell_type": "markdown",
   "metadata": {},
   "source": [
    "# 1. Подготовка"
   ]
  },
  {
   "cell_type": "markdown",
   "metadata": {},
   "source": [
    "## 1.1 Загрузка модулей, определение констант и т.п."
   ]
  },
  {
   "cell_type": "code",
   "execution_count": 2,
   "metadata": {},
   "outputs": [],
   "source": [
    "### IMPORT\n",
    "\n",
    "# import collections\n",
    "import datetime\n",
    "import matplotlib.pyplot as plt\n",
    "import numpy as np\n",
    "import pandas as pd\n",
    "import re\n",
    "import seaborn as sns\n",
    "import time\n",
    "import warnings\n",
    "\n",
    "\n",
    "# from sklearn.metrics import mean_squared_error as mse\n",
    "from sklearn.metrics import mean_absolute_error as mae\n",
    "from sklearn.metrics import max_error, make_scorer\n",
    "\n",
    "from sklearn.model_selection import train_test_split\n",
    "# from sklearn.preprocessing import OrdinalEncoder, StandardScaler, MinMaxScaler\n",
    "\n",
    "# from sklearn.ensemble import RandomForestRegressor\n",
    "# from sklearn.linear_model import LinearRegression\n",
    "# from sklearn.tree import DecisionTreeRegressor\n",
    "\n",
    "import lightgbm as lgbm\n",
    "# from catboost import CatBoostRegressor\n",
    "\n",
    "# conda install -c conda-forge catboost\n",
    "# conda install -c conda-forge lightgbm"
   ]
  },
  {
   "cell_type": "code",
   "execution_count": 3,
   "metadata": {},
   "outputs": [],
   "source": [
    "### Global constants and settings\n",
    "\n",
    "FILEPATH = \"D:\\\\Data_Science_0\\\\Data_Science_=_Skill_Factory\\\\Real_DS_=_3_auto\\\\\"\n",
    "RANDOM_STATE = 1607\n",
    "\n",
    "# warnings.filterwarnings(\"ignore\")\n",
    "\n",
    "# Plotting\n",
    "\n",
    "sns.set(style='darkgrid', palette=\"bright\")\n",
    "sns.set(font_scale = 1.25)\n",
    "FONT_SIZE = 14"
   ]
  },
  {
   "cell_type": "markdown",
   "metadata": {},
   "source": [
    "Здесь задаются параметры общие для работы моделей во всё коде."
   ]
  },
  {
   "cell_type": "code",
   "execution_count": 4,
   "metadata": {},
   "outputs": [],
   "source": [
    "###  LAUNCH CONTROL CENTER (LCC)\n",
    "\n",
    "## LGBM parameters (constant)\n",
    "OBJECTIVE = 'mse'  ## mse, mae, mape\n",
    "CATEGORICAL_FEATURE_LIST_LGBM = 'auto'\n",
    "## The point is that lightGBM can handle only features, that are of `category` type, not `object`.\n",
    "\n",
    "\n",
    "## Parameter for target transformation (power of log)\n",
    "\n",
    "POWER = 1.5\n",
    "\n",
    "\n",
    "### fraction of data transferred to models\n",
    "\n",
    "FRAC = 1\n",
    "FRAC_MODEL = 1\n",
    "\n",
    "### Number od data transferred to models\n",
    "### If exceeds the whole number, model will work with  all data\n",
    "\n",
    "N_SAMPLE_BASE = 200000\n",
    "N_SAMPLE_META = 200000\n",
    "\n",
    "\n",
    "### The distance between vodels in hyperparameter space (for bagging/stacking)\n",
    "STEP_INT = 1\n",
    "STEP_LR = 0.001\n",
    "\n",
    "### The number of points along one coordinate in hyperparameter space (for bagging/stacking)\n",
    "### for base models\n",
    "N_grid = 3\n",
    "### for meta models\n",
    "N_meta = 3\n",
    "\n",
    "#### You also can adjust the range of hyperparameters for optimization search\n",
    "### To do this go to '### MARK: RANGE ADJUST'"
   ]
  },
  {
   "cell_type": "code",
   "execution_count": 5,
   "metadata": {},
   "outputs": [],
   "source": [
    "### Let's the game begin\n",
    "\n",
    "total_time_start = time.time()\n",
    "\n",
    "date_start = datetime.date.today()\n",
    "time_start = datetime.datetime.now().time()"
   ]
  },
  {
   "cell_type": "markdown",
   "metadata": {},
   "source": [
    "## 1.2 Загрузка данных"
   ]
  },
  {
   "cell_type": "code",
   "execution_count": 6,
   "metadata": {},
   "outputs": [],
   "source": [
    "data = pd.read_csv(FILEPATH + \"cars_aux.csv\")\n",
    "# data"
   ]
  },
  {
   "cell_type": "markdown",
   "metadata": {},
   "source": [
    "# 2 Общая информация"
   ]
  },
  {
   "cell_type": "code",
   "execution_count": 7,
   "metadata": {},
   "outputs": [],
   "source": [
    "data = data.drop(['Unnamed: 0'], axis=1)"
   ]
  },
  {
   "cell_type": "markdown",
   "metadata": {},
   "source": [
    "## 2.1 Дубликаты"
   ]
  },
  {
   "cell_type": "markdown",
   "metadata": {},
   "source": [
    "Есть 8846 дубликатов."
   ]
  },
  {
   "cell_type": "code",
   "execution_count": 8,
   "metadata": {},
   "outputs": [
    {
     "name": "stdout",
     "output_type": "stream",
     "text": [
      "Now we have 124428 entries.\n"
     ]
    }
   ],
   "source": [
    "data.drop_duplicates(inplace=True, ignore_index=True)\n",
    "print(\"Now we have {} entries.\".format( len(data) ))"
   ]
  },
  {
   "cell_type": "markdown",
   "metadata": {},
   "source": [
    "## 2.2 Пропуски"
   ]
  },
  {
   "cell_type": "code",
   "execution_count": 9,
   "metadata": {},
   "outputs": [],
   "source": [
    "target_name = 'price'\n",
    "missung_values = data.isna().sum().sort_values(ascending=False)\n",
    "# missung_values"
   ]
  },
  {
   "cell_type": "markdown",
   "metadata": {},
   "source": [
    "Пропуски есть только в признаке 'owners'."
   ]
  },
  {
   "cell_type": "markdown",
   "metadata": {},
   "source": [
    "Подавляющее число пропусков в 'owners' - это машины с нулевым пробегом, т.е., новые. Укажем таким машинам `owners=0`, остальные 13 пропусков удалим."
   ]
  },
  {
   "cell_type": "code",
   "execution_count": 10,
   "metadata": {},
   "outputs": [
    {
     "name": "stdout",
     "output_type": "stream",
     "text": [
      "17\n"
     ]
    }
   ],
   "source": [
    "to_drop_mask = ( data['owners'].isna() ) & (data['mileage'] > 0)\n",
    "print(to_drop_mask.sum())\n",
    "# to_drop_mask[ to_drop_mask==True ]"
   ]
  },
  {
   "cell_type": "code",
   "execution_count": 11,
   "metadata": {},
   "outputs": [],
   "source": [
    "data = data.drop(index=to_drop_mask[ to_drop_mask==True ].index).reset_index(drop=True)\n",
    "data = data.fillna(0)\n",
    "# data.isna().sum()"
   ]
  },
  {
   "cell_type": "markdown",
   "metadata": {},
   "source": [
    "# 3 Исследование признаков"
   ]
  },
  {
   "cell_type": "markdown",
   "metadata": {},
   "source": [
    "Определим какие признаки являются:\n",
    "- численными (numerical)\n",
    "- категориальными (categorical) среди которых есть\n",
    "  - упорядоченные (ordinal)\n",
    "  - бинарные (binary)\n",
    "  - прочие неупорядоченные"
   ]
  },
  {
   "cell_type": "code",
   "execution_count": 12,
   "metadata": {},
   "outputs": [
    {
     "name": "stdout",
     "output_type": "stream",
     "text": [
      "There are 62 variables.\n",
      "There are 4 numerical variables: ['displacement', 'power', 'mileage', 'year']\n",
      "There are 58 categorical variables, amongst them:\n",
      "    2 ordinal variables: ['doors_count', 'owners']\n",
      "        and\n",
      "    56 'one-hot' variables:\n",
      " ['park-assist-r', 'condition', 'advanced-frontlighting-system', 'decorative-interior-lighting', 'night-vision', 'climate-control-1', 'transmission', 'airbag-6', 'park-assist-f', 'abs', 'airbag-curtain', 'cruise-control', 'halogen', 'sport-suspension', 'computer', 'airbag-passenger', 'collision-prevention-assist', 'lane-keeping-assist', 'vsm', 'airbag-driver', 'airbag-4', 'mark', 'airbag-rear-side', 'climate-control-3', 'airbag-side', 'rear-camera', 'gear_type', 'auto-park', 'section', 'multizone-climate-control', 'laser-lights', 'knee-airbag', 'front-camera', 'color', 'airbag-1', 'airbag-2', 'auto-cruise', 'navigation', 'engine_type', 'activ-suspension', 'esp', 'projection-display', 'led-lights', 'climate-control-2', 'parktronik', 'automatic-lighting-control', 'body_type', 'price', 'air-suspension', 'asr', 'model', 'xenon', 'steering_wheel', 'climate-control', 'drowsy-driver-alert-system', 'adaptive-light']\n"
     ]
    }
   ],
   "source": [
    "features_set = set(data.columns) - set('price')\n",
    "\n",
    "features_numerical = ['displacement', 'power', 'mileage', 'year']\n",
    "features_numerical_set = set(features_numerical)\n",
    "\n",
    "features_categorical_set = features_set - features_numerical_set\n",
    "features_categorical = list(features_categorical_set)\n",
    "\n",
    "features_ordinal = ['doors_count', 'owners']\n",
    "features_ordinal_set = set(features_ordinal)\n",
    "\n",
    "features_one_hot_set = features_categorical_set - features_ordinal_set\n",
    "features_one_hot = list(features_one_hot_set)\n",
    "\n",
    "\n",
    "print(\"There are {} variables.\".format(len(features_set)))\n",
    "print(\"There are {} numerical variables:\".format( len(features_numerical) ), features_numerical)\n",
    "print(\"There are {} categorical variables, amongst them:\\n    {} ordinal variables:\"\n",
    "      .format( len(features_categorical_set), len(features_ordinal) ), features_ordinal)\n",
    "print(\"        and\")\n",
    "print(\"    {} 'one-hot' variables:\\n\".\n",
    "      format( len(features_one_hot) ), features_one_hot)"
   ]
  },
  {
   "cell_type": "code",
   "execution_count": 13,
   "metadata": {},
   "outputs": [],
   "source": [
    "def num_variable_analysis(df, item, target_name, n_bins=100):\n",
    "    if item != target_name:\n",
    "        fig, axes = plt.subplots(1, 3, figsize=(15, 10))\n",
    "    else:\n",
    "        fig, axes = plt.subplots(1, 2, figsize=(15, 10))\n",
    "    \n",
    "    \n",
    "    # ==== FIG 1 (boxplot)    \n",
    "    df.boxplot(column=item, ax=axes[0])\n",
    "    axes[0].set_title(item, fontsize=FONT_SIZE)\n",
    "\n",
    "    \n",
    "    # ==== FIG 2 (distplot)\n",
    "    sns.distplot(df[item], bins=n_bins, kde=True, ax=axes[1], vertical=True)\n",
    "    axes[1].set_title(item, fontsize=FONT_SIZE)\n",
    "    plt.xticks(rotation=45)\n",
    "    # axes.set_xlim((0, 100))\n",
    "    \n",
    "    \n",
    "    # === FIG 3 (scatterplot)\n",
    "    if item != target_name:\n",
    "        axes[2] = sns.scatterplot(x=item, y=target_name, data=df)\n",
    "    \n",
    "    plt.show()\n",
    "    \n",
    "    # === Descriptive statistics\n",
    "    describer = pd.DataFrame(df[item].describe()).T    \n",
    "    print(\"==== {} ====\".format(item))\n",
    "    print(describer, \"\\n\")\n",
    "    \n",
    "    \n",
    "    # Pearson correlation coefficient for feature/target\n",
    "    if item != target_name:\n",
    "        corr_coeff = np.array(df[[item, target_name]].corr())[0, 1]\n",
    "        print(\"Pearson correlation coefficient between '{}' and '{}' is {:.4f}.\"\n",
    "              .format( item, target_name, corr_coeff ), \"\\n\")\n",
    "    \n",
    "    \n",
    "    # === Missing values\n",
    "    print(\"There are {} missing values in '{}'.\".format( df[item].isna().sum(), item ), \"\\n\"*2)"
   ]
  },
  {
   "cell_type": "markdown",
   "metadata": {},
   "source": [
    "**Выделяются**:\n",
    "1. 6 машин с ценой выше 40 млн руб.\n",
    "2. несколько машин с объёмом двигателя свыше 7 л\n",
    "3. автомобиль с мощностью двигателя 950 л.с.\n",
    "4. минимальная мощность двигателя 11 л.с.\n",
    "5. автомобили с нулевым объёмом двигателя\n",
    "6. раритет 1990 года ценой за 2 млн руб"
   ]
  },
  {
   "cell_type": "markdown",
   "metadata": {},
   "source": [
    "1. 6 машин с ценой выше 40 млн руб.- несколько машин с объёмом двигателя свыше 7 л\n",
    " - люксовые (Maybach S-Класс и Mercedes-Benz S-Класс (W220)) и спортивные машины (Mercedes-Benz SLR McLaren, Aston Martin Vantage). С Aston Martin Vantage есть загадка: модель выпускалась с 2005, а в базе стоит 1999 год...\n",
    "2. 13 машин с объёмом двигателя свыше 7 л\n",
    " - 3 \"пассажирских грузовика\" (SUV) Chevrolet Suburban 9-го поколения и его производная Chevrolet Avalanche\n",
    " - 2 \"членовоза\" ЗИЛ-41047\n",
    " - \"спортсмены\" Dodge Viper и Chevrolet Corvette (по 3 штуки)\n",
    " - фургон Ford Econoline\n",
    "3. автомобиль с мощностью двигателя 950 л.с.\n",
    " - Шоу-кар «Формула-1»\n",
    "4. аавтомобили с мощностью двигателя меньше 30 л.с.:\n",
    " - СМЗ С-3Д - инвалидка\" (2)\n",
    " - Bajaj Qute - индийский квадрицикл (3)\n",
    " - Renault Twizy - еропейский электро-квадрицикл (2)\n",
    " - LADA (ВАЗ) - 1111 Ока (5) \n",
    "5. автомобили с нулевым объёмом двигателя\n",
    " - электромобили\n",
    "6. раритет 1990 года ценой за 2 млн\n",
    " - Это внедорожник Lamborghini LM002 ! \n",
    " \n",
    "Далеко не рядовые 120 машин. Все они имеют право на существование, но для общего рынка некоторые будут скорее аномалиями и способны подпортить предсказатель.\n",
    "\n",
    "Сейчас удаляем все, кроме \"Оки\" и электромобилей."
   ]
  },
  {
   "cell_type": "code",
   "execution_count": 14,
   "metadata": {},
   "outputs": [],
   "source": [
    "if target_name == 'price_log10':\n",
    "    data = data[ data[target_name] < np.log10(40*10**6)]\n",
    "else:\n",
    "    data = data[ data[target_name] < 40*10**6]\n",
    "\n",
    "data = data[ data['displacement'] <= 7000 ]\n",
    "data = data[ data['power'] < 900 ]\n",
    "data = data[ data['power'] > 20 ]\n",
    "# data = data[ data['engine_type'] != 'ELECTRO' ]\n",
    "\n",
    "if target_name == 'price_log10':\n",
    "    index_to_drop = data[ (data['year']==1990) & (data[target_name] > np.log10(20*10**6))].index\n",
    "else:\n",
    "    index_to_drop = data[ (data['year']==1990) & (data[target_name] > 20*10**6)].index\n",
    "    \n",
    "data = data.drop(index=index_to_drop).reset_index(drop=True)\n",
    "# data"
   ]
  },
  {
   "cell_type": "markdown",
   "metadata": {},
   "source": [
    "Из аномалий - 0-дверная машина (2 штуки) и пятидверки с ценой свыше 35 млн руб."
   ]
  },
  {
   "cell_type": "markdown",
   "metadata": {},
   "source": [
    "Машинами без дверей оказались гоночные болиды Dallara F399/300 и Ariel Atom. Удаляем как редкую редкость.\n",
    "\n",
    "Машинами с ценой за 35 млн руб. оказался люксовый внедорожник Rolls-Royce Cullinan и Geländewagen. Тоже удаляем как редких птиц для российского (даже московского) авторынка."
   ]
  },
  {
   "cell_type": "code",
   "execution_count": 15,
   "metadata": {},
   "outputs": [],
   "source": [
    "data = data[ data['doors_count']>0 ]\n",
    "\n",
    "limit_t = 35*10**6\n",
    "\n",
    "if target_name == 'price_log10':\n",
    "    limit_t = np.log10(limit_t)\n",
    "\n",
    "data = data[ data[target_name]<limit_t ].reset_index(drop=True)"
   ]
  },
  {
   "cell_type": "markdown",
   "metadata": {},
   "source": [
    "Преобразуем 16-ричную кодировку цвета в названия."
   ]
  },
  {
   "cell_type": "code",
   "execution_count": 16,
   "metadata": {},
   "outputs": [],
   "source": [
    "## https://hysy.org/color/97948F\n",
    "## https://www.colorhexa.com/0000cc\n",
    "\n",
    "color_dict = {}\n",
    "\n",
    "color_dict['040001'] = 'black'  ## в ПТС как чёрный (#601)\n",
    "color_dict['FAFBFB'] = 'white'\n",
    "color_dict['CACECB'] = 'silver'\n",
    "color_dict['97948F'] = 'grey'\n",
    "color_dict['0000CC'] = 'strong-blue'\n",
    "\n",
    "color_dict['200204'] = 'mostly-black-red'  ## в ПТС как коричневый металлик (#798)\n",
    "color_dict['EE1D19'] = 'vivid-red'\n",
    "color_dict['007F00'] = 'dark-green'\n",
    "color_dict['C49648'] = 'french-beige'\n",
    "color_dict['22A0F8'] = 'vivid-blue'  ## лазурный\n",
    "\n",
    "color_dict['FFD600'] = 'yellow'\n",
    "color_dict['660099'] = 'purple'\n",
    "color_dict['4A2197'] = 'dark-violet'\n",
    "color_dict['DEA522'] = 'golden'\n",
    "color_dict['FF8649'] = 'orange'\n",
    "color_dict['FFC0CB'] = 'pink'\n",
    "\n",
    "data['color'] = data['color'].map(color_dict)\n",
    "# data"
   ]
  },
  {
   "cell_type": "markdown",
   "metadata": {},
   "source": [
    "Странности:\n",
    "1. `body_type` - три типа кузова с очень малым числом машин:\n",
    " - TARGA            - 8 \n",
    " - LIMOUSINE        - 3 \n",
    " - SPEEDSTER        - 1 \n",
    "\n",
    "2. `engine_type` - Всего 19 машин с двигателем на газу. Они погоду не сделают - удалим.\n",
    " - LPG            - 19"
   ]
  },
  {
   "cell_type": "markdown",
   "metadata": {},
   "source": [
    "Основываясь на статье в вики \"[Car body style]\" (https://en.wikipedia.org/wiki/Car_body_style) укрупним категории кузова в соответсвии с таблицей (невошедшие - без изменений):\n",
    "\n",
    "| было | стало |\n",
    "| :-- | :-- |\n",
    "| WAGON          | VAN |\n",
    "| MINIVAN        | VAN |\n",
    "| COMPACTVAN     | VAN |\n",
    "| MICROVAN       | VAN |\n",
    "| TARGA          | CABRIO |\n",
    "| LIMOUSINE      | SEDAN |\n",
    "| SPEEDSTER      | COUPE  |"
   ]
  },
  {
   "cell_type": "code",
   "execution_count": 17,
   "metadata": {},
   "outputs": [
    {
     "data": {
      "text/plain": [
       "SEDAN        44667\n",
       "ALLROAD      43019\n",
       "HATCHBACK    17081\n",
       "VAN          11490\n",
       "COUPE         1960\n",
       "PICKUP         834\n",
       "ROADSTER       209\n",
       "CABRIO         209\n",
       "Name: body_type, dtype: int64"
      ]
     },
     "execution_count": 17,
     "metadata": {},
     "output_type": "execute_result"
    }
   ],
   "source": [
    "dict_body = {}\n",
    "\n",
    "dict_body['ALLROAD'] = 'ALLROAD'\n",
    "dict_body['SEDAN'] = 'SEDAN'\n",
    "dict_body['HATCHBACK'] = 'HATCHBACK'\n",
    "\n",
    "dict_body['WAGON'] = 'VAN'\n",
    "dict_body['MINIVAN'] = 'VAN'\n",
    "dict_body['COMPACTVAN'] = 'VAN'\n",
    "\n",
    "dict_body['COUPE'] = 'COUPE'\n",
    "dict_body['PICKUP'] = 'PICKUP'\n",
    "dict_body['VAN'] = 'VAN'\n",
    "dict_body['ROADSTER'] = 'ROADSTER'\n",
    "dict_body['CABRIO'] = 'CABRIO'\n",
    "\n",
    "dict_body['MICROVAN'] = 'VAN'\n",
    "dict_body['TARGA'] = 'CABRIO'\n",
    "dict_body['LIMOUSINE'] = 'SEDAN'\n",
    "dict_body['SPEEDSTER'] = 'COUPE'\n",
    "\n",
    "data['body_type'] = data['body_type'].map(dict_body)\n",
    "data['body_type'].value_counts()"
   ]
  },
  {
   "cell_type": "code",
   "execution_count": 18,
   "metadata": {},
   "outputs": [
    {
     "data": {
      "text/plain": [
       "GASOLINE    107178\n",
       "DIESEL       16718\n",
       "HYBRID         375\n",
       "ELECTRO         89\n",
       "Name: engine_type, dtype: int64"
      ]
     },
     "execution_count": 18,
     "metadata": {},
     "output_type": "execute_result"
    }
   ],
   "source": [
    "data = data[ data['engine_type'] != 'LPG' ]\n",
    "data['engine_type'].value_counts()"
   ]
  },
  {
   "cell_type": "markdown",
   "metadata": {},
   "source": [
    "# 4 Преобразование данных"
   ]
  },
  {
   "cell_type": "markdown",
   "metadata": {},
   "source": [
    "## 4.1 Преобразование типа данных"
   ]
  },
  {
   "cell_type": "code",
   "execution_count": 19,
   "metadata": {},
   "outputs": [],
   "source": [
    "data['owners'] = data['owners'].astype('int')\n",
    "features_as_category = list( features_categorical_set - set(['doors_count', 'owners', 'price']) )\n",
    "\n",
    "# features_as_category"
   ]
  },
  {
   "cell_type": "code",
   "execution_count": 20,
   "metadata": {
    "scrolled": false
   },
   "outputs": [],
   "source": [
    "for item in features_as_category:\n",
    "    data[item] = data[item].astype('category')\n",
    "    \n",
    "# data.info(memory_usage='deep')"
   ]
  },
  {
   "cell_type": "markdown",
   "metadata": {},
   "source": [
    "# 5 Prelaunch"
   ]
  },
  {
   "cell_type": "markdown",
   "metadata": {},
   "source": [
    "## 5.0 Target transformation\n",
    "\n",
    "$$z = \\log_{10}y$$\n",
    "\n",
    "$${\\rm transform:}\\qquad s = z^{1/p} = (\\log_{10}y)^{1/p}$$\n",
    "\n",
    "$${\\rm inverse \\,\\, transform:}\\qquad y = 10^{y^p}$$"
   ]
  },
  {
   "cell_type": "code",
   "execution_count": 21,
   "metadata": {},
   "outputs": [],
   "source": [
    "def sqrtn(x, power):\n",
    "    ans = []\n",
    "    for z in x:\n",
    "        if z >= 0:\n",
    "            ans.append( z**(1/power) )\n",
    "        else:\n",
    "            ans.append( -np.abs(z)**(1/power) )\n",
    "    return np.array(ans)\n",
    "    \n",
    "\n",
    "\n",
    "def target_transform(y, p):\n",
    "    z = np.log10(y)\n",
    "    s = sqrtn(z, p)\n",
    "    return s\n",
    "\n",
    "\n",
    "\n",
    "def target_transform_inv(s, p):\n",
    "    z = s**p\n",
    "    y = 10**z\n",
    "    return y"
   ]
  },
  {
   "cell_type": "markdown",
   "metadata": {},
   "source": [
    "## 5.1 Metrics function (MAPE)"
   ]
  },
  {
   "cell_type": "code",
   "execution_count": 22,
   "metadata": {},
   "outputs": [],
   "source": [
    "import numpy as np\n",
    "def mean_absolute_percent_error(y_true, y_pred):\n",
    "    \n",
    "    \"\"\"\n",
    "    The mean absolute percentage error (MAPE).\n",
    "    Note 1: Here MAPE is measured in %%.\n",
    "    Note 2: The zero values of y_true are ignored.\n",
    "    \"\"\"\n",
    "    y_true = np.array(y_true)\n",
    "    y_pred = np.array(y_pred)\n",
    "    \n",
    "    mask = (y_true != 0)\n",
    "    y_true = y_true[mask]\n",
    "    y_pred = y_pred[mask]\n",
    "    return np.mean(np.abs( (y_true - y_pred) / y_true) ) * 100\n",
    "\n",
    "# mape_scorer = make_scorer(mean_absolute_percent_error, greater_is_better=False)"
   ]
  },
  {
   "cell_type": "code",
   "execution_count": 23,
   "metadata": {
    "scrolled": false
   },
   "outputs": [
    {
     "name": "stdout",
     "output_type": "stream",
     "text": [
      "The maximal relative error of target transformation = 5.16047601757076e-15\n"
     ]
    },
    {
     "data": {
      "image/png": "[encoded data removed]",
      "text/plain": [
       "<Figure size 1080x1440 with 3 Axes>"
      ]
     },
     "metadata": {},
     "output_type": "display_data"
    },
    {
     "name": "stdout",
     "output_type": "stream",
     "text": [
      "Wall time: 2.73 s\n"
     ]
    }
   ],
   "source": [
    "%%time\n",
    "\n",
    "y = data[target_name]\n",
    "\n",
    "p = 1.5\n",
    "z = target_transform(y, p)\n",
    "s = target_transform_inv(z, p)\n",
    "\n",
    "\n",
    "n_bins = 200\n",
    "\n",
    "plt.subplots(3, 1, figsize=(15, 20))\n",
    "\n",
    "plt.subplot(3, 1, 1)\n",
    "level = 1000\n",
    "sns.distplot(y, bins=n_bins, kde=False, label='y')\n",
    "plt.plot(y.min(), 3*level, '>', color='yellow', markeredgecolor='blue', markersize=10, label='y_min')\n",
    "plt.plot(y.max(), 3*level, '<', color='yellow', markeredgecolor='blue', markersize=10, label='y_max')\n",
    "plt.plot((y.max()+y.min())/2, 3*level, 'P', color='yellow', markeredgecolor='blue', markersize=10, label='y_center')\n",
    "plt.plot(y.mean(), 2*level, 'go', markersize=10, label='y_mean')\n",
    "plt.plot(np.median(y), level, 'ro', markersize=10, label='y_median')\n",
    "plt.title(\"min={}, mean={:.0f}, center = {:.0f}, median={:.0f}, max={}\"\n",
    "          .format(y.min(), y.mean(), (y.max()+y.min())/2, np.median(y), y.max()))\n",
    "plt.legend()\n",
    "plt.xlabel('')\n",
    "\n",
    "y_log = np.log10(y)\n",
    "\n",
    "plt.subplot(3, 1, 2)\n",
    "level = 100\n",
    "sns.distplot(y_log, bins=n_bins, kde=False, label='log10(y)')\n",
    "plt.plot(y_log.min(), 3*level, '>', color='yellow', markeredgecolor='blue', markersize=10, label='log10(y)_min')\n",
    "plt.plot(y_log.max(), 3*level, '<', color='yellow', markeredgecolor='blue', markersize=10, label='log10(y)_max')\n",
    "plt.plot((y_log.max()+y_log.min())/2, 3*level, 'P',\n",
    "         color='yellow', markeredgecolor='blue', markersize=10, label='log10(y)_center')\n",
    "plt.plot(y_log.mean(), 2*level, 'go', markersize=10, label='log10(y)_mean')\n",
    "plt.plot(np.median(y_log), level, 'ro', markersize=10, label='log10(y)_median')\n",
    "plt.title(\"min={:.3f}, mean={:.3f}, center = {:.3f}, median={:.3f}, max={:.3f}\"\n",
    "          .format(y_log.min(), y_log.mean(), (y_log.max()+y_log.min())/2, np.median(y_log), y_log.max()))\n",
    "plt.legend()\n",
    "plt.xlabel('')\n",
    "\n",
    "plt.subplot(3, 1, 3)\n",
    "level = 100\n",
    "sns.distplot(z, bins=n_bins, kde=False, label='f(y, p)')\n",
    "plt.plot(z.min(), 3*level, '>', color='yellow', markeredgecolor='blue', markersize=10, label='f(y, p)_min')\n",
    "plt.plot(z.max(), 3*level, '<', color='yellow', markeredgecolor='blue', markersize=10, label='f(y, p)_max')\n",
    "plt.plot((z.max()+z.min())/2, 3*level, 'P', color='yellow', markeredgecolor='blue', markersize=10, \n",
    "         label='f(y, p)_center={:.3f}'.format( (z.max()+z.min())/2 ))\n",
    "plt.plot(z.mean(), 2*level, 'go', markersize=10, label='f(y, p)_mean={:.3f}'.format( z.mean() ))\n",
    "plt.plot(np.median(z), level, 'ro', markersize=10, label='f(y, p)_median={:.3f}'.format( np.median(z) ))\n",
    "plt.title(\"min={:.3f}, mean={:.3f}, center = {:.3f}, median={:.3f}, max={:.3f}\"\n",
    "          .format(z.min(), z.mean(), (z.max()+z.min())/2, np.median(z), z.max()))\n",
    "plt.legend()\n",
    "plt.xlabel('')\n",
    "\n",
    "print(\"The maximal relative error of target transformation =\",\n",
    "      ( np.abs( target_transform_inv(target_transform(y, p), p) - y )/y ).max())\n",
    "\n",
    "plt.show()"
   ]
  },
  {
   "cell_type": "code",
   "execution_count": 24,
   "metadata": {},
   "outputs": [],
   "source": [
    "# y_for_d = np.sort(y)\n",
    "# distances = np.diff(y_for_d)\n",
    "# distances\n",
    "\n",
    "\n",
    "# fig, ax = plt.subplots(3, 1, figsize=(16, 24))\n",
    "\n",
    "# plt.subplot(3, 1, 1)\n",
    "# plt.plot(y_for_d[1:], distances, '-b')\n",
    "# plt.title(\"Distance between neighbouring points\")\n",
    "\n",
    "# plt.subplot(3, 1, 2)\n",
    "# plt.semilogy(y_for_d[1:], distances)\n",
    "\n",
    "# plt.subplot(3, 1, 3)\n",
    "# plt.loglog(y_for_d[1:], distances)\n",
    "# plt.show()"
   ]
  },
  {
   "cell_type": "markdown",
   "metadata": {},
   "source": [
    "## 5.3 Model optimizer"
   ]
  },
  {
   "cell_type": "code",
   "execution_count": 25,
   "metadata": {},
   "outputs": [],
   "source": [
    "def model_one_coord_search(EstimatorClass, params_fixed, params_limits, \n",
    "                           data_trr, data_vall, target_name, n_sample, \n",
    "                           num_points=21, metrics_func=None,\n",
    "                           lgb_categorical_feature_list='auto',\n",
    "                           verbose=False, visualize=False):\n",
    "    \"\"\"\n",
    "    This FUNCTION \n",
    "    - creates the model;\n",
    "    - trains it with the train data;\n",
    "    - makes the prediction from valid data;\n",
    "    - calculate metrics and\n",
    "    - measures the time of performance of all above actions.\n",
    "    \n",
    "    NOTE:\n",
    "    ...\n",
    "    ...LighnGBM (marked as 'lgb')\n",
    "    \n",
    "    INPUT:\n",
    "    \n",
    "    \n",
    "    OUTPUT:\n",
    "    \n",
    "    Version 1.1\n",
    "    Needs libraries:\n",
    "    - pandas\n",
    "    - numpy\n",
    "    - scikit-learn\n",
    "    - time\n",
    "    \n",
    "    \"\"\"\n",
    "    \n",
    "    \n",
    "    \n",
    "    param_current = params_fixed.copy()\n",
    "\n",
    "    data_tr = data_trr.copy()\n",
    "    data_val = data_vall.copy()\n",
    "    \n",
    "    if n_sample < len(data_tr):        \n",
    "        data_tr = data_tr.sample(n_sample, random_state=param_current['random_state'])\n",
    "        \n",
    "    ### target transformation\n",
    "    ###\n",
    "    data_tr[target_name] = target_transform(data_tr[target_name], POWER)\n",
    "        \n",
    "    feat_train = data_tr.drop([target_name], axis=1)\n",
    "    targ_train = data_tr[target_name]\n",
    "    \n",
    "    feat_valid = data_val.drop([target_name], axis=1)\n",
    "    targ_valid = data_val[target_name]\n",
    "    \n",
    "    \n",
    "    for key in params_limits.keys():\n",
    "        if params_limits[key][2] == 'int':\n",
    "            param_range = np.linspace(params_limits[key][0], params_limits[key][1], num=num_points, dtype=int)\n",
    "        else:\n",
    "            param_range = np.linspace(params_limits[key][0], params_limits[key][1], num=num_points)\n",
    "                        \n",
    "        param_range = np.unique(param_range)\n",
    "        \n",
    "        metrics_list = []\n",
    "        performance_list = []\n",
    "        metrics_best = 10**10\n",
    "        best_param = None\n",
    "        \n",
    "        for k, point in enumerate(param_range):\n",
    "            param_current[key] = point\n",
    "            \n",
    "            ### ** - The best way to initialise estimator with the parameters\n",
    "            ### would be to unpack dictionary\n",
    "            if EstimatorClass != 'lgbm':\n",
    "                t0 = time.time()\n",
    "                model = EstimatorClass(**param_current)\n",
    "                model.fit(feat_train, targ_train)\n",
    "            else:\n",
    "                # We should give LightGBM data converted to his own form \n",
    "                # Here data is pandas.DataFrame with catecorical data, label is target\n",
    "                train_data = lgbm.Dataset(data_tr.drop([target_name], axis=1), label=data_tr[target_name], \n",
    "                                          categorical_feature=lgb_categorical_feature_list)\n",
    "                t0 = time.time()\n",
    "                model = lgbm.train(param_current, train_data)\n",
    "                \n",
    "            ### target inverse transformation\n",
    "            ###\n",
    "            prediction_transformed = model.predict(feat_valid)\n",
    "            prediction = np.round(target_transform_inv(prediction_transformed, POWER)).astype(int)\n",
    "        \n",
    "            \n",
    "            metrics = metrics_func(targ_valid, prediction)\n",
    "            metrics_list.append(metrics)\n",
    "            \n",
    "            if metrics < metrics_best:\n",
    "                metrics_best = metrics\n",
    "                best_param = point\n",
    "            \n",
    "            performance_time = time.time() - t0\n",
    "            performance_list.append(performance_time)\n",
    "            \n",
    "            if verbose:\n",
    "                print(\"{} : {} = {:.6f} : METRICS = {:.4f} ; eval_time = {:.3f} sec\"\n",
    "                      .format( k, key, point, metrics, performance_time ))\n",
    "        \n",
    "        metrics_array = np.array(metrics_list)\n",
    "        performance_array = np.array(performance_list)\n",
    "        \n",
    "        if visualize:\n",
    "            fig, ax = plt.subplots(1, 1, figsize=(16, 8))\n",
    "            \n",
    "            plt.plot(best_param, metrics_best, 'o', markersize=14, \n",
    "                     markerfacecolor='w', markeredgecolor='r', label=\"best point\")\n",
    "            plt.plot(param_range, metrics_array, '-bo', label=\"\")\n",
    "            plt.legend()\n",
    "            plt.title(\"The best metrics is {:.4f} for {}={}\"\n",
    "                      .format( metrics_best, key, best_param ))\n",
    "        \n",
    "    return metrics_array, param_range, performance_array, best_param, metrics_best"
   ]
  },
  {
   "cell_type": "markdown",
   "metadata": {},
   "source": [
    "Test of `model_one_coord_search` (Stage 1)"
   ]
  },
  {
   "cell_type": "code",
   "execution_count": 26,
   "metadata": {},
   "outputs": [],
   "source": [
    "def model_coord_search_loop(EstimatorClass, params_fixed, params_limits, \n",
    "                            data_tr, data_val, target_name, n_sample, \n",
    "                            num_points=21, metrics_func=None,\n",
    "                            lgb_categorical_feature_list='auto',\n",
    "                            verbose=False, visualize=False):\n",
    "    \n",
    "    \n",
    "    param_current = params_fixed.copy()\n",
    "    \n",
    "    best_param_loop = {}\n",
    "    metrics_best_loop = 10**10\n",
    "    \n",
    "    param_lim_1 = {}\n",
    "    result_dict = {}\n",
    "    for key in params_limits.keys():\n",
    "        param_lim_1[key] = params_limits[key]\n",
    "        if verbose:\n",
    "            print()\n",
    "            print(\"^^^\")\n",
    "            print(\"Fixed\", param_current)\n",
    "            print(\"Varies\", param_lim_1)\n",
    "            print(\"^^^\\n\")\n",
    "        result = model_one_coord_search(EstimatorClass, param_current, param_lim_1, \n",
    "                                        data_tr, data_val, target_name, n_sample, \n",
    "                                        num_points=num_points, metrics_func=metrics_func,\n",
    "                                        lgb_categorical_feature_list=lgb_categorical_feature_list,\n",
    "                                        verbose=verbose, visualize=visualize)\n",
    "        metrics_array, param_range, performance_array, best_param, metrics_best = result\n",
    "        \n",
    "        if best_param < metrics_best_loop:\n",
    "            metrics_best_loop = best_param\n",
    "        \n",
    "        param_current[key] = best_param\n",
    "        result_dict[key] = best_param\n",
    "        param_lim_1 = {}\n",
    "        \n",
    "        if verbose:\n",
    "            print()\n",
    "            print(\"*** Best {} = {} witn METRICS = {}\".format(key, best_param, metrics_best))\n",
    "        \n",
    "    return result_dict, metrics_best"
   ]
  },
  {
   "cell_type": "code",
   "execution_count": 27,
   "metadata": {},
   "outputs": [],
   "source": [
    "def model_coord_search(EstimatorClass, params_fixed, params_limits, \n",
    "                       data_tr, data_val, target_name, n_sample, \n",
    "                       num_points=21, metrics_func=None, tol=0.0001, iter_lim=100,\n",
    "                       lgb_categorical_feature_list='auto',\n",
    "                       verbose_cycle=False, verbose_detail=False, \n",
    "                       visualize_cycle=False, visualize_detail=False):\n",
    "    \n",
    "    \"\"\"\n",
    "    This fuction performs the search of the best parameters over specified parameter values \n",
    "    for an estimator using coordinate search.\n",
    "    \n",
    "    PARAMETERS:\n",
    "        \n",
    "    EstimatorClass - estimator object. \n",
    "        This is assumed to implement the scikit-learn estimator interface with `fit` and `predict` methods. \n",
    "        LightGBM is a special case - you should define EstimatorClass as a string 'lgbm' and\n",
    "        `import lightgbm as lgbm` .\n",
    "    \n",
    "    params_fixed - dict. \n",
    "        Dictionary with parameters names (str) as keys and lists of parameter settings to try. \n",
    "        Such a list contains three elements: \n",
    "            First - the minimal limit for the parameter grid ('int' or 'float')\n",
    "            Second - the maximal limit for the parameter grid ('int' or 'float')\n",
    "            Third - the type of variable (str: 'int' or 'float'). The string which is not 'int' treated as 'float'.    \n",
    "    \n",
    "    params_limits - dict.\n",
    "    \n",
    "                       data_tr, data_val, target_name, n_sample, \n",
    "                       num_points=21, metrics_func=None, tol=0.0001, iter_lim=100,\n",
    "                       lgb_categorical_feature_list='auto',\n",
    "                       verbose_cycle=False, verbose_detail=False, \n",
    "                       visualize_cycle=False, visualize_detail=False\n",
    "    \"\"\"\n",
    "    \n",
    "    metrics_in = 10**10\n",
    "    metrics_out = 10**9\n",
    "    \n",
    "    metrics_best = 10**10\n",
    "    best_params = {}\n",
    "    \n",
    "    k = 0\n",
    "    metrics_to_plot = []\n",
    "    while metrics_in - metrics_out >= tol: \n",
    "        t0 = time.time()\n",
    "        if verbose_cycle:\n",
    "            print(\"[{}]\".format(k))\n",
    "            print(\"params_limits :\", params_limits)\n",
    "            \n",
    "        metrics_in = metrics_out        \n",
    "        result_dict, metrics_out = model_coord_search_loop(EstimatorClass, params_fixed, params_limits, \n",
    "                                                            data_tr, data_val, target_name, n_sample, \n",
    "                                                            num_points=num_points, metrics_func=metrics_func,\n",
    "                                                            lgb_categorical_feature_list='auto',\n",
    "                                                            verbose=verbose_detail, visualize=visualize_detail)\n",
    "        if metrics_out < metrics_best:\n",
    "            metrics_best = metrics_out\n",
    "            best_params = result_dict\n",
    "        \n",
    "        \n",
    "        metrics_to_plot.append(metrics_out)\n",
    "        \n",
    "        for key in params_limits.keys():\n",
    "            step_key = ( params_limits[key][1] - params_limits[key][0] ) / ( num_points - 1 )\n",
    "            if params_limits[key][2] == 'int':\n",
    "                step_key = int(np.ceil(step_key))\n",
    "                \n",
    "            lim_min = result_dict[key] - step_key\n",
    "            if lim_min < params_limits[key][0]:\n",
    "                lim_min = params_limits[key][0]\n",
    "            lim_max = result_dict[key] + step_key\n",
    "            params_limits[key] = [ lim_min, lim_max, params_limits[key][2] ]\n",
    "            \n",
    "        \n",
    "        if verbose_cycle:\n",
    "            print(\"OUT [{}]: M(i) = {:.6f}; M(i+1) = {:.6f} (tol={})\"\n",
    "                  .format(k, metrics_in, metrics_out, tol))\n",
    "            print(\"result_dict\", result_dict)\n",
    "            print(\"Iteration time = {:.2f} sec\".format( time.time() - t0 ))\n",
    "            print(\"\\n\", \"~ \"*9, \"\\n\")\n",
    "        k += 1\n",
    "        if k > iter_lim:\n",
    "            print(\"The limit of iterations is achieved. Sorry!\")\n",
    "            break\n",
    "            \n",
    "    print(min(metrics_to_plot))\n",
    "    if visualize_cycle:        \n",
    "        shift = 0.03*(max(metrics_to_plot) - min(metrics_to_plot))\n",
    "        x = np.arange(0, len(metrics_to_plot))\n",
    "        \n",
    "        fig, ax = plt.subplots(1, 1, figsize=(16, 8))\n",
    "        plt.plot(x, metrics_to_plot, '-bo')\n",
    "        plt.xlabel(\"Iteration\", fontsize=14)\n",
    "        plt.ylabel(\"Metrics\", fontsize=14)\n",
    "        for a, b in zip(x, metrics_to_plot): \n",
    "            plt.text(a, b+shift, str( np.round(b, 4)), fontsize=12)\n",
    "        plt.show()\n",
    "    \n",
    "    print()\n",
    "    print(\"Done. Congratulations!\")\n",
    "    \n",
    "    return best_params, metrics_best"
   ]
  },
  {
   "cell_type": "markdown",
   "metadata": {},
   "source": [
    "# 6 Optimization of base models"
   ]
  },
  {
   "cell_type": "markdown",
   "metadata": {},
   "source": [
    "## 6.3 Collection of nearly best base models for meta-phase"
   ]
  },
  {
   "cell_type": "code",
   "execution_count": 28,
   "metadata": {},
   "outputs": [],
   "source": [
    "def model_collector(EstimatorClass, params_fixed, params_opt, \n",
    "                    data_trr, data_vall, target_name, n_sample,\n",
    "                    metrics_func=None,\n",
    "                    lgb_categorical_feature_list='auto'):\n",
    "    \n",
    "    \"\"\"\n",
    "    \"\"\"\n",
    "    \n",
    "    \n",
    "    import itertools\n",
    "    \n",
    "    data_tr = data_trr.copy()\n",
    "    data_val = data_vall.copy()\n",
    "    \n",
    "    try:\n",
    "        rs = params_fixed['random_state']\n",
    "    except:\n",
    "        rs = None\n",
    "    \n",
    "    \n",
    "    if n_sample < len(data_tr):        \n",
    "        data_tr = data_tr.sample(n_sample, random_state=rs)\n",
    "    \n",
    "\n",
    "    \n",
    "    ### target transformation\n",
    "    ###\n",
    "    data_tr[target_name] = target_transform(data_tr[target_name], POWER)\n",
    "    \n",
    "    feat_train = data_tr.drop([target_name], axis=1)\n",
    "    targ_train = data_tr[target_name]\n",
    "        \n",
    "    feat_valid = data_val.drop([target_name], axis=1)\n",
    "    targ_valid = data_val[target_name]\n",
    "    \n",
    "    result_df = pd.DataFrame( columns=list(params_opt.keys())+[\"metrics\", \"performance_time\", \"model\"] )\n",
    "    print(list(result_df.columns))\n",
    "    \n",
    "    keys, values = zip(*params_opt.items())\n",
    "    ## list of dicts\n",
    "    permutations_dicts = [dict(zip(keys, v)) for v in itertools.product(*values)]\n",
    "    \n",
    "    for k, dict_point in enumerate(permutations_dicts):\n",
    "        param_current = {**params_fixed, **dict_point}\n",
    "        \n",
    "        if EstimatorClass != 'lgbm':\n",
    "            t0 = time.time()\n",
    "            model = EstimatorClass(**param_current)\n",
    "            model.fit(feat_train, targ_train)\n",
    "        else:\n",
    "            # We should give LightGBM data converted to his own form \n",
    "            # Here data is pandas.DataFrame with catecorical data, label is target\n",
    "            train_data = lgbm.Dataset(data_tr.drop([target_name], axis=1), label=data_tr[target_name], \n",
    "                                      categorical_feature=lgb_categorical_feature_list)\n",
    "            t0 = time.time()\n",
    "            model = lgbm.train(param_current, train_data)\n",
    "                \n",
    "        prediction_transformed = model.predict(feat_valid)\n",
    "        prediction = np.round(target_transform_inv(prediction_transformed, POWER)).astype(int)\n",
    "        \n",
    "        metrics = metrics_func(targ_valid, prediction)\n",
    "        \n",
    "        performance_time = time.time() - t0\n",
    "        \n",
    "        list_to_append = list( dict_point.values() ) + [metrics, performance_time, model]\n",
    "        print(list_to_append)\n",
    "        result_df = result_df.append(pd.DataFrame([list_to_append], columns=result_df.columns), ignore_index=True)\n",
    "        \n",
    "    result_df = result_df.sort_values('metrics', ascending=True).reset_index(drop=True)\n",
    "        \n",
    "    return result_df"
   ]
  },
  {
   "cell_type": "markdown",
   "metadata": {},
   "source": [
    "# 8 Приведение в соответствие данных обучающей и внешней тестовой выборок"
   ]
  },
  {
   "cell_type": "markdown",
   "metadata": {},
   "source": [
    "Приведение в сооветствиие данных обучающей и внешней тестовой выборок предполагает соответсвие признаков по сути, названию и содержанию."
   ]
  },
  {
   "cell_type": "markdown",
   "metadata": {},
   "source": [
    "Загрузим внешние данные (\"представленные заказчиком для прогнозирования\")."
   ]
  },
  {
   "cell_type": "code",
   "execution_count": 29,
   "metadata": {
    "scrolled": true
   },
   "outputs": [],
   "source": [
    "test = pd.read_csv(FILEPATH + \"test.csv\")\n",
    "# test"
   ]
  },
  {
   "cell_type": "markdown",
   "metadata": {},
   "source": [
    "Внешние данные содержат 3837 записей. По сути данные совпадают с данными, которые мы будем использовать для построения общей модели. \n",
    "\n",
    "Требуется приведение в соответствие:\n",
    "- названий признаков\n",
    "- формата представления данных"
   ]
  },
  {
   "cell_type": "code",
   "execution_count": 30,
   "metadata": {},
   "outputs": [],
   "source": [
    "test = test.drop(['vehicleConfiguration', 'description', 'Состояние', 'ПТС', \n",
    "                  'Таможня', 'Владение', 'id', 'modelDate'], axis=1)\n",
    "# test.columns"
   ]
  },
  {
   "cell_type": "markdown",
   "metadata": {},
   "source": [
    "## 8.1 Приведение в соответствие признаков обучающей и внешней тестовой выборок"
   ]
  },
  {
   "cell_type": "markdown",
   "metadata": {},
   "source": [
    "### bodyType"
   ]
  },
  {
   "cell_type": "code",
   "execution_count": 31,
   "metadata": {},
   "outputs": [
    {
     "data": {
      "text/plain": [
       "{'седан': 'SEDAN',\n",
       " 'внедорожник 5 дв.': 'ALLROAD',\n",
       " 'хэтчбек 3 дв.': 'HATCHBACK',\n",
       " 'хэтчбек 5 дв.': 'HATCHBACK',\n",
       " 'купе': 'COUPE',\n",
       " 'родстер': 'ROADSTER',\n",
       " 'седан 2 дв.': 'SEDAN',\n",
       " 'лифтбек': 'LIFTBACK',\n",
       " 'универсал 5 дв.': 'HATCHBACK',\n",
       " 'кабриолет': 'CABRIO',\n",
       " 'компактвэн': 'VAN'}"
      ]
     },
     "execution_count": 31,
     "metadata": {},
     "output_type": "execute_result"
    }
   ],
   "source": [
    "dict_body_type = {}\n",
    "\n",
    "dict_body_type['седан'] = 'SEDAN'\n",
    "dict_body_type['внедорожник 5 дв.'] = 'ALLROAD'\n",
    "dict_body_type['хэтчбек 3 дв.'] = 'HATCHBACK'\n",
    "dict_body_type['хэтчбек 5 дв.'] = 'HATCHBACK'\n",
    "dict_body_type['купе'] = 'COUPE'\n",
    "\n",
    "dict_body_type['родстер'] = 'ROADSTER'\n",
    "dict_body_type['седан 2 дв.'] = 'SEDAN'\n",
    "dict_body_type['лифтбек'] = 'LIFTBACK'\n",
    "dict_body_type['универсал 5 дв.'] = 'HATCHBACK'\n",
    "dict_body_type['кабриолет'] = 'CABRIO'\n",
    "dict_body_type['компактвэн'] = 'VAN'\n",
    "\n",
    "dict_body_type"
   ]
  },
  {
   "cell_type": "code",
   "execution_count": 32,
   "metadata": {},
   "outputs": [],
   "source": [
    "test['body_type'] = test['bodyType'].map(dict_body_type)\n",
    "test = test.drop(['bodyType'], axis=1)\n",
    "# test"
   ]
  },
  {
   "cell_type": "markdown",
   "metadata": {},
   "source": [
    "У BMW нет пикапов - удалим их из обучающей выборки."
   ]
  },
  {
   "cell_type": "markdown",
   "metadata": {},
   "source": [
    "### brand"
   ]
  },
  {
   "cell_type": "code",
   "execution_count": 33,
   "metadata": {},
   "outputs": [],
   "source": [
    "# test['brand'].value_counts()"
   ]
  },
  {
   "cell_type": "markdown",
   "metadata": {},
   "source": [
    "В предоставленном для предсказания датасете машины только марки BMW.\n",
    "То есть, это не вариативный признак - удаляем его из представленного набора, а обучающий сужаем до машин только марки BMW. \n",
    "\n",
    "*Все операции с обучающем набором выполним в конце раздела - перед обучением \"заточенной под BMW\" модели*."
   ]
  },
  {
   "cell_type": "code",
   "execution_count": 34,
   "metadata": {},
   "outputs": [],
   "source": [
    "test = test.drop(['brand'], axis=1)\n",
    "# test"
   ]
  },
  {
   "cell_type": "markdown",
   "metadata": {},
   "source": [
    "### color"
   ]
  },
  {
   "cell_type": "code",
   "execution_count": 35,
   "metadata": {},
   "outputs": [
    {
     "data": {
      "text/plain": [
       "{'чёрный': 'black',\n",
       " 'белый': 'white',\n",
       " 'синий': 'strong-blue',\n",
       " 'серый': 'grey',\n",
       " 'коричневый': 'mostly-black-red',\n",
       " 'серебристый': 'silver',\n",
       " 'красный': 'vivid-red',\n",
       " 'бежевый': 'french-beige',\n",
       " 'голубой': 'vivid-blue',\n",
       " 'зелёный': 'dark-green',\n",
       " 'оранжевый': 'orange',\n",
       " 'золотистый': 'golden',\n",
       " 'пурпурный': 'purple',\n",
       " 'фиолетовый': 'dark-violet',\n",
       " 'жёлтый': 'yellow'}"
      ]
     },
     "execution_count": 35,
     "metadata": {},
     "output_type": "execute_result"
    }
   ],
   "source": [
    "dict_color = {}\n",
    "\n",
    "dict_color['чёрный'] = 'black'\n",
    "dict_color['белый'] = 'white'\n",
    "dict_color['синий'] = 'strong-blue'\n",
    "dict_color['серый'] = 'grey'\n",
    "dict_color['коричневый'] = 'mostly-black-red'\n",
    "dict_color['серебристый'] = 'silver'\n",
    "dict_color['красный'] = 'vivid-red'\n",
    "dict_color['бежевый'] = 'french-beige'\n",
    "dict_color['голубой'] = 'vivid-blue'\n",
    "dict_color['зелёный'] = 'dark-green'\n",
    "dict_color['оранжевый'] = 'orange'\n",
    "dict_color['золотистый'] = 'golden'\n",
    "dict_color['пурпурный'] = 'purple'\n",
    "dict_color['фиолетовый'] = 'dark-violet'\n",
    "dict_color['жёлтый'] = 'yellow'\n",
    "\n",
    "dict_color"
   ]
  },
  {
   "cell_type": "code",
   "execution_count": 36,
   "metadata": {},
   "outputs": [],
   "source": [
    "test['color'] = test['color'].map(dict_color)\n",
    "# test"
   ]
  },
  {
   "cell_type": "markdown",
   "metadata": {},
   "source": [
    "### fuelType"
   ]
  },
  {
   "cell_type": "code",
   "execution_count": 37,
   "metadata": {},
   "outputs": [
    {
     "data": {
      "text/plain": [
       "{'бензин': 'GASOLINE',\n",
       " 'дизель': 'DIESEL',\n",
       " 'гибрид': 'HYBRID',\n",
       " 'электро': 'ELECTRO'}"
      ]
     },
     "execution_count": 37,
     "metadata": {},
     "output_type": "execute_result"
    }
   ],
   "source": [
    "dict_engine_type = {}\n",
    "\n",
    "dict_engine_type['бензин'] = 'GASOLINE'\n",
    "dict_engine_type['дизель'] = 'DIESEL'\n",
    "dict_engine_type['гибрид'] = 'HYBRID'\n",
    "dict_engine_type['электро'] = 'ELECTRO'\n",
    "\n",
    "dict_engine_type"
   ]
  },
  {
   "cell_type": "code",
   "execution_count": 38,
   "metadata": {},
   "outputs": [],
   "source": [
    "test['engine_type'] = test['fuelType'].map(dict_engine_type)\n",
    "test = test.drop(['fuelType'], axis=1)\n",
    "# test"
   ]
  },
  {
   "cell_type": "markdown",
   "metadata": {},
   "source": [
    "### name"
   ]
  },
  {
   "cell_type": "code",
   "execution_count": 39,
   "metadata": {},
   "outputs": [],
   "source": [
    "def model_extract(x):\n",
    "    result = re.findall(r'^\\w+', x)\n",
    "    \n",
    "    return result[0]\n",
    "\n",
    "# \\w     Любая цифра или буква (\\W — все, кроме буквы или цифры)\n",
    "# ^ и $  Начало и конец строки соответственно\n",
    "# +      1 и более вхождений шаблона слева"
   ]
  },
  {
   "cell_type": "code",
   "execution_count": 40,
   "metadata": {},
   "outputs": [],
   "source": [
    "test['model'] = test['name'].apply(model_extract)\n",
    "test = test.drop(['name'], axis=1)\n",
    "# test"
   ]
  },
  {
   "cell_type": "code",
   "execution_count": 41,
   "metadata": {},
   "outputs": [],
   "source": [
    "dict_model = {}\n",
    "\n",
    "dict_model['840d'] = '8 серия'\n",
    "\n",
    "dict_model['725Ld'] = '7 серия'\n",
    "dict_model['728i'] = '7 серия'\n",
    "dict_model['750Li'] = '7 серия'\n",
    "dict_model['730d'] = '7 серия'\n",
    "dict_model['730i'] = '7 серия'\n",
    "dict_model['730Ld'] = '7 серия'\n",
    "dict_model['730Li'] = '7 серия'\n",
    "dict_model['735i'] = '7 серия'\n",
    "dict_model['735Li'] = '7 серия'\n",
    "dict_model['740d'] = '7 серия'\n",
    "dict_model['740i'] = '7 серия'\n",
    "dict_model['740Ld'] = '7 серия'\n",
    "dict_model['740Li'] = '7 серия'\n",
    "dict_model['745i'] = '7 серия'\n",
    "dict_model['745Li'] = '7 серия'\n",
    "dict_model['750d'] = '7 серия'\n",
    "dict_model['750i'] = '7 серия'\n",
    "dict_model['750Ld'] = '7 серия'\n",
    "dict_model['760i'] = '7 серия'\n",
    "dict_model['760Li'] = '7 серия'\n",
    "dict_model['M760Li'] = '7 серия'\n",
    "dict_model['ActiveHybrid'] = '7 серия'\n",
    "\n",
    "\n",
    "dict_model['620d'] = '6 серия'\n",
    "dict_model['630d'] = '6 серия'\n",
    "dict_model['630i'] = '6 серия'\n",
    "dict_model['640d'] = '6 серия'\n",
    "dict_model['640i'] = '6 серия'\n",
    "dict_model['645i'] = '6 серия'\n",
    "dict_model['650i'] = '6 серия'\n",
    "\n",
    "dict_model['5'] = '5 серия'\n",
    "dict_model['518'] = '5 серия'\n",
    "dict_model['520d'] = '5 серия'\n",
    "dict_model['520i'] = '5 серия'\n",
    "dict_model['520Li'] = '5 серия'\n",
    "dict_model['523i'] = '5 серия'\n",
    "dict_model['525d'] = '5 серия'\n",
    "dict_model['525i'] = '5 серия'\n",
    "dict_model['525xd'] = '5 серия'\n",
    "dict_model['525xi'] = '5 серия'\n",
    "dict_model['528i'] = '5 серия'\n",
    "dict_model['528Li'] = '5 серия'\n",
    "dict_model['530d'] = '5 серия'\n",
    "dict_model['530i'] = '5 серия'\n",
    "dict_model['530Li'] = '5 серия'\n",
    "dict_model['530xd'] = '5 серия'\n",
    "dict_model['530xi'] = '5 серия'\n",
    "dict_model['535d'] = '5 серия'\n",
    "dict_model['535i'] = '5 серия'\n",
    "dict_model['540i'] = '5 серия'\n",
    "dict_model['545i'] = '5 серия'\n",
    "dict_model['550i'] = '5 серия'\n",
    "\n",
    "dict_model['4'] = '4 серия'\n",
    "dict_model['420d'] = '4 серия'\n",
    "dict_model['420i'] = '4 серия'\n",
    "dict_model['428i'] = '4 серия'\n",
    "dict_model['430i'] = '4 серия'\n",
    "dict_model['440i'] = '4 серия'\n",
    "\n",
    "dict_model['3'] = '3 серия'\n",
    "dict_model['316'] = '3 серия'\n",
    "dict_model['316i'] = '3 серия'\n",
    "dict_model['318d'] = '3 серия'\n",
    "dict_model['318i'] = '3 серия'\n",
    "dict_model['320d'] = '3 серия'\n",
    "dict_model['320i'] = '3 серия'\n",
    "dict_model['323i'] = '3 серия'\n",
    "dict_model['325i'] = '3 серия'\n",
    "dict_model['325xi'] = '3 серия'\n",
    "dict_model['328i'] = '3 серия'\n",
    "dict_model['330d'] = '3 серия'\n",
    "dict_model['330i'] = '3 серия'\n",
    "dict_model['330xd'] = '3 серия'\n",
    "dict_model['330xi'] = '3 серия'\n",
    "dict_model['335i'] = '3 серия'\n",
    "dict_model['335xi'] = '3 серия'\n",
    "dict_model['340i'] = '3 серия'\n",
    "\n",
    "dict_model['2'] = '2 серия'\n",
    "dict_model['220i'] = '2 серия'\n",
    "dict_model['218i'] = '2 серия Active Tourer'\n",
    "dict_model['Active'] = '2 серия Active Tourer'\n",
    "dict_model['M235i'] = '2 серия Grand Tourer'\n",
    "\n",
    "dict_model['1'] = '1 серия'\n",
    "dict_model['116i'] = '1 серия'\n",
    "dict_model['118i'] = '1 серия'\n",
    "dict_model['118d'] = '1 серия'\n",
    "dict_model['120d'] = '1 серия'\n",
    "dict_model['120i'] = '1 серия'\n",
    "dict_model['125i'] = '1 серия'\n",
    "dict_model['130i'] = '1 серия'\n",
    "dict_model['135i'] = '1 серия'\n",
    "dict_model['M135i'] = '1 серия'\n",
    "\n",
    "dict_model['25d'] = 'X5'\n",
    "dict_model['30d'] = 'X5'\n",
    "dict_model['35d'] = 'X5'\n",
    "dict_model['35i'] = 'X5'\n",
    "dict_model['40i'] = 'X5'\n",
    "dict_model['40d'] = 'X5'\n",
    "dict_model['48i'] = 'X5'\n",
    "\n",
    "dict_model['M50d'] = 'X5 M'\n",
    "dict_model['M50i'] = 'X5 M'\n",
    "\n",
    "dict_model['20d'] = 'X3'\n",
    "dict_model['25i'] = 'X3'\n",
    "dict_model['28i'] = 'X3'\n",
    "dict_model['50i'] = 'X3'\n",
    "dict_model['30i'] = 'X3'\n",
    "dict_model['xDrive20d'] = 'X3'\n",
    "\n",
    "dict_model['M40d'] = 'X3 M'\n",
    "dict_model['M40i'] = 'X3 M'\n",
    "\n",
    "dict_model['18d'] = 'X1'\n",
    "dict_model['18i'] = 'X1'\n",
    "dict_model['20i'] = 'X1'\n",
    "dict_model['23d'] = 'X1'\n",
    "dict_model['sDrive18i'] = 'X1'\n",
    "dict_model['xDrive18d'] = 'X1'\n",
    "dict_model['xDrive20i'] = 'X1'\n",
    "\n",
    "dict_model['35is'] = 'Z4'\n",
    "dict_model['23i'] = 'Z4'\n",
    "\n",
    "dict_model['M850i'] = 'M8'\n",
    "dict_model['M550d'] = 'M5'\n",
    "dict_model['M550i'] = 'M5'\n",
    "dict_model['Competition'] = 'M5'\n",
    "dict_model['CS'] = 'M4'\n",
    "dict_model['M340i'] = 'M3'\n",
    "\n",
    "dict_model['Electro'] = 'i3'\n",
    "\n",
    "# dict_model"
   ]
  },
  {
   "cell_type": "code",
   "execution_count": 42,
   "metadata": {},
   "outputs": [],
   "source": [
    "test['model'] = test['model'].map(dict_model)\n",
    "# test"
   ]
  },
  {
   "cell_type": "markdown",
   "metadata": {},
   "source": [
    "В обучающей выборке есть модели, отсутствующие в выборке, предоставленной для предсказания. Удалим их из обучающей выборки."
   ]
  },
  {
   "cell_type": "markdown",
   "metadata": {},
   "source": [
    "### numberOfDoors"
   ]
  },
  {
   "cell_type": "code",
   "execution_count": 43,
   "metadata": {},
   "outputs": [],
   "source": [
    "test['doors_count'] = test['numberOfDoors'].astype('int')\n",
    "test = test.drop(['numberOfDoors'], axis=1)\n",
    "# test"
   ]
  },
  {
   "cell_type": "markdown",
   "metadata": {},
   "source": [
    "### productionDate"
   ]
  },
  {
   "cell_type": "code",
   "execution_count": 44,
   "metadata": {},
   "outputs": [],
   "source": [
    "test['year'] = test['productionDate'].astype('int')\n",
    "test = test.drop(['productionDate'], axis=1)\n",
    "# test"
   ]
  },
  {
   "cell_type": "markdown",
   "metadata": {},
   "source": [
    "### vehicleTransmission"
   ]
  },
  {
   "cell_type": "code",
   "execution_count": 45,
   "metadata": {},
   "outputs": [],
   "source": [
    "dict_transmission = {}\n",
    "\n",
    "dict_transmission['автоматическая'] = 'AUTOMATIC'\n",
    "dict_transmission['механическая'] = 'MECHANICAL'\n",
    "dict_transmission['роботизированная'] = 'ROBOT'"
   ]
  },
  {
   "cell_type": "code",
   "execution_count": 46,
   "metadata": {},
   "outputs": [],
   "source": [
    "test['transmission'] = test['vehicleTransmission'].map(dict_transmission)\n",
    "test = test.drop(['vehicleTransmission'], axis=1)\n",
    "# test"
   ]
  },
  {
   "cell_type": "markdown",
   "metadata": {},
   "source": [
    "### engineDisplacement"
   ]
  },
  {
   "cell_type": "code",
   "execution_count": 47,
   "metadata": {},
   "outputs": [],
   "source": [
    "def displacement_extract(x):\n",
    "    try:\n",
    "        return int(float(x[:-4])*1000)\n",
    "    except:\n",
    "        ### it's an electro\n",
    "        return 0"
   ]
  },
  {
   "cell_type": "code",
   "execution_count": 48,
   "metadata": {},
   "outputs": [],
   "source": [
    "test['displacement'] = test['engineDisplacement'].apply(displacement_extract)#.astype('int')\n",
    "test = test.drop(['engineDisplacement'], axis=1)\n",
    "# test['displacement'].value_counts()\n",
    "# test"
   ]
  },
  {
   "cell_type": "markdown",
   "metadata": {},
   "source": [
    "### enginePower"
   ]
  },
  {
   "cell_type": "code",
   "execution_count": 49,
   "metadata": {},
   "outputs": [],
   "source": [
    "def power_extract(x):\n",
    "    try:\n",
    "        return int(x[:-4])\n",
    "    except:\n",
    "        return x"
   ]
  },
  {
   "cell_type": "code",
   "execution_count": 50,
   "metadata": {},
   "outputs": [],
   "source": [
    "test['power'] = test['enginePower'].apply(power_extract)\n",
    "test = test.drop(['enginePower'], axis=1)\n",
    "# test"
   ]
  },
  {
   "cell_type": "markdown",
   "metadata": {},
   "source": [
    "### mileage"
   ]
  },
  {
   "cell_type": "code",
   "execution_count": 51,
   "metadata": {},
   "outputs": [],
   "source": [
    "test['mileage'] = test['mileage'].astype('int')\n",
    "# test"
   ]
  },
  {
   "cell_type": "markdown",
   "metadata": {},
   "source": [
    "### Привод"
   ]
  },
  {
   "cell_type": "code",
   "execution_count": 52,
   "metadata": {},
   "outputs": [
    {
     "data": {
      "text/plain": [
       "{'полный': 'ALL_WHEEL_DRIVE',\n",
       " 'задний': 'REAR_DRIVE',\n",
       " 'передний': 'FORWARD_CONTROL'}"
      ]
     },
     "execution_count": 52,
     "metadata": {},
     "output_type": "execute_result"
    }
   ],
   "source": [
    "dict_gear_type = {}\n",
    "\n",
    "dict_gear_type['полный'] = 'ALL_WHEEL_DRIVE'\n",
    "dict_gear_type['задний'] = 'REAR_DRIVE'\n",
    "dict_gear_type['передний'] = 'FORWARD_CONTROL'\n",
    "\n",
    "dict_gear_type"
   ]
  },
  {
   "cell_type": "code",
   "execution_count": 53,
   "metadata": {},
   "outputs": [],
   "source": [
    "test['gear_type'] = test['Привод'].map(dict_gear_type)\n",
    "test = test.drop(['Привод'], axis=1)\n",
    "# test"
   ]
  },
  {
   "cell_type": "markdown",
   "metadata": {},
   "source": [
    "### Руль"
   ]
  },
  {
   "cell_type": "code",
   "execution_count": 54,
   "metadata": {},
   "outputs": [],
   "source": [
    "test = test.drop(['Руль'], axis=1)\n",
    "# test"
   ]
  },
  {
   "cell_type": "markdown",
   "metadata": {},
   "source": [
    "В предоставленном для предсказания набора только  леворульные машины, а в обучающем есть 2 праворульные BMW. Удалим признак и из предоставленного набора (только одно значение - неиформативен), и из \"заточенного под BMW\" обучающего набора (нет нужды обучать предсказатель под машины, для которых не надо предсказывать)."
   ]
  },
  {
   "cell_type": "markdown",
   "metadata": {},
   "source": [
    "### Владельцы"
   ]
  },
  {
   "cell_type": "code",
   "execution_count": 55,
   "metadata": {},
   "outputs": [],
   "source": [
    "dict_owners = {}\n",
    "\n",
    "dict_owners['1 владелец'] = 1\n",
    "dict_owners['2 владельца'] = 2\n",
    "dict_owners['3 или более'] = 3"
   ]
  },
  {
   "cell_type": "code",
   "execution_count": 56,
   "metadata": {},
   "outputs": [],
   "source": [
    "test['owners'] = test['Владельцы'].map(dict_owners)\n",
    "test = test.drop(['Владельцы'], axis=1)\n",
    "# test"
   ]
  },
  {
   "cell_type": "markdown",
   "metadata": {},
   "source": [
    "Иного выхода как заполнить пропуски в числе владельцев нулями не видно."
   ]
  },
  {
   "cell_type": "code",
   "execution_count": 57,
   "metadata": {},
   "outputs": [],
   "source": [
    "test = test.fillna(0)\n",
    "test['owners'] =  test['owners'].astype('int')\n",
    "# test"
   ]
  },
  {
   "cell_type": "markdown",
   "metadata": {},
   "source": [
    "## 8.2 Извлечение данных из признака 'Комплектация'"
   ]
  },
  {
   "cell_type": "code",
   "execution_count": 58,
   "metadata": {},
   "outputs": [],
   "source": [
    "def complect_splitter(x):\n",
    "    bag = []\n",
    "    for sign in x:\n",
    "        if sign not in [ \"[\", \"]\", \"'\", '\"', \"{\", \"}\"]:\n",
    "            bag.append(sign)\n",
    "        new_text = \"\".join(bag)\n",
    "        new_set = set()\n",
    "    for word in new_text.split(\",\"):\n",
    "        try:\n",
    "            splitted = word.split(\":\")\n",
    "            word = splitted[1]\n",
    "        except:\n",
    "            pass\n",
    "\n",
    "        if word not in[ 'name:Безопасность', 'name:Защита от угона', 'name:Комфорт', \n",
    "                       'name:Мультимедиа', 'name:Обзор', 'name:Салон']:\n",
    "            new_set.add(word)\n",
    "            \n",
    "    return list(new_set)"
   ]
  },
  {
   "cell_type": "code",
   "execution_count": 59,
   "metadata": {},
   "outputs": [
    {
     "name": "stdout",
     "output_type": "stream",
     "text": [
      "Wall time: 1min 3s\n"
     ]
    }
   ],
   "source": [
    "%%time\n",
    "test['complect_list'] = test['Комплектация'].apply(complect_splitter)\n",
    "# test"
   ]
  },
  {
   "cell_type": "markdown",
   "metadata": {},
   "source": [
    "Сделаем словарь соответствия и по нему создадим 'one-hot' переменные. Некоторые переменные присутствующие в обучающей выборке в предложенной тестовой не определились - удалим их в нужном месте из обучающей выборки."
   ]
  },
  {
   "cell_type": "code",
   "execution_count": 60,
   "metadata": {},
   "outputs": [],
   "source": [
    "dict_equip = {}\n",
    "\n",
    "dict_equip['Антиблокировочная система (ABS)'] = 'abs'\n",
    "dict_equip['Активная подвеска'] = 'activ-suspension'\n",
    "dict_equip['Пневмоподвеска'] = 'air-suspension'\n",
    "dict_equip['Антипробуксовочная система (ASR)'] = 'asr'\n",
    "dict_equip['Система предотвращения столкновения'] = 'collision-prevention-assist'\n",
    "dict_equip['Система стабилизации (ESP)'] = 'esp'\n",
    "dict_equip['Система контроля за полосой движения'] = 'lane-keeping-assist'\n",
    "dict_equip['Парктроник передний'] = 'park-assist-f'\n",
    "dict_equip['Парктроник задний'] = 'park-assist-r'\n",
    "dict_equip['Спортивная подвеска'] = 'sport-suspension'\n",
    "dict_equip['Система стабилизации рулевого управления (VSM)'] = 'vsm'\n",
    "\n",
    "dict_equip['Климат-контроль 1-зонный'] = 'climate-control'\n",
    "dict_equip['Климат-контроль 2-зонный'] = 'climate-control-1'\n",
    "dict_equip['Кондиционер'] = 'condition'\n",
    "dict_equip['Климат-контроль многозонный'] = 'multizone-climate-control'\n",
    "\n",
    "dict_equip['Адаптивный круиз-контроль'] = 'auto-cruise'\n",
    "dict_equip['Система автоматической парковки'] = 'auto-park'\n",
    "dict_equip['Бортовой компьютер'] = 'computer'\n",
    "dict_equip['Круиз-контроль'] = 'cruise-control'\n",
    "dict_equip['Датчик усталости водителя'] = 'drowsy-driver-alert-system'\n",
    "dict_equip['Камера передняя'] = 'front-camera'\n",
    "dict_equip['Навигационная система'] = 'navigation'\n",
    "dict_equip['Система ночного видения'] = 'night-vision'\n",
    "dict_equip['Проекционный дисплей'] = 'projection-display'\n",
    "dict_equip['Камера задняя'] = 'rear-camera'\n",
    "\n",
    "dict_equip['Система адаптивного освещения'] = 'adaptive-light'\n",
    "dict_equip['Система управления дальним светом'] = 'advanced-frontlighting-system'\n",
    "dict_equip['Декоративная подсветка салона'] = 'decorative-interior-lighting'\n",
    "dict_equip['Лазерные фары'] = 'laser-lights'\n",
    "dict_equip['Светодиодные фары'] = 'led-lights'\n",
    "dict_equip['Ксеноновые/Биксеноновые фары'] = 'xenon'\n",
    "\n",
    "dict_equip['Подушка безопасности водителя'] = 'airbag-1'\n",
    "dict_equip['Подушка безопасности пассажира'] = 'airbag-2'\n",
    "dict_equip['Подушки безопасности оконные (шторки)'] = 'airbag-curtain'\n",
    "dict_equip['Подушка безопасности водителя'] = 'airbag-driver'\n",
    "dict_equip['Подушка безопасности пассажира'] = 'airbag-passenger'\n",
    "dict_equip['Подушки безопасности боковые задние'] = 'airbag-rear-side'\n",
    "dict_equip['Подушки безопасности боковые'] = 'airbag-side'\n",
    "dict_equip['Подушка безопасности для защиты коленей водителя'] = 'knee-airbag'\n",
    "\n",
    "# dict_equip"
   ]
  },
  {
   "cell_type": "code",
   "execution_count": 61,
   "metadata": {
    "scrolled": true
   },
   "outputs": [
    {
     "name": "stdout",
     "output_type": "stream",
     "text": [
      "0 3837 0.11560487747192383\n",
      "100 3837 1.9647436141967773\n",
      "200 3837 3.0375988483428955\n",
      "300 3837 4.523102521896362\n",
      "400 3837 5.671705722808838\n",
      "500 3837 6.852514028549194\n",
      "600 3837 8.064368963241577\n",
      "700 3837 9.529025077819824\n",
      "800 3837 10.911835193634033\n",
      "900 3837 12.25232720375061\n",
      "1000 3837 13.598827838897705\n",
      "1100 3837 15.343762874603271\n",
      "1200 3837 17.409348249435425\n",
      "1300 3837 19.2399959564209\n",
      "1400 3837 20.6717848777771\n",
      "1500 3837 21.926649570465088\n",
      "1600 3837 23.010971307754517\n",
      "1700 3837 24.224504470825195\n",
      "1800 3837 25.468982458114624\n",
      "1900 3837 27.164300203323364\n",
      "2000 3837 28.401363134384155\n",
      "2100 3837 30.343926906585693\n",
      "2200 3837 32.18197441101074\n",
      "2300 3837 34.05392813682556\n",
      "2400 3837 35.902814865112305\n",
      "2500 3837 37.01392722129822\n",
      "2600 3837 38.01639914512634\n",
      "2700 3837 39.275853633880615\n",
      "2800 3837 40.34681487083435\n",
      "2900 3837 41.37597322463989\n",
      "3000 3837 42.64929533004761\n",
      "3100 3837 43.8410325050354\n",
      "3200 3837 44.99168944358826\n",
      "3300 3837 46.140419006347656\n",
      "3400 3837 47.234180212020874\n",
      "3500 3837 48.38647794723511\n",
      "3600 3837 49.3901047706604\n",
      "3700 3837 50.607287645339966\n",
      "3800 3837 51.87894582748413\n",
      "Wall time: 52.5 s\n"
     ]
    }
   ],
   "source": [
    "%%time\n",
    "\n",
    "t0 = time.time()\n",
    "\n",
    "for n, entity in enumerate(test['complect_list']):\n",
    "    for item in dict_equip.keys():\n",
    "        if item in entity:\n",
    "            test.loc[n, dict_equip[item]] = 1\n",
    "        else:\n",
    "            test.loc[n, dict_equip[item]] = 0    \n",
    "    if n%100 == 0:\n",
    "        print(n, len(test), time.time()-t0)"
   ]
  },
  {
   "cell_type": "code",
   "execution_count": 62,
   "metadata": {},
   "outputs": [],
   "source": [
    "test = test.drop(['Комплектация', 'complect_list'], axis=1)\n",
    "# test"
   ]
  },
  {
   "cell_type": "markdown",
   "metadata": {},
   "source": [
    "## 8.3 Приведение в соотвествие типов данных"
   ]
  },
  {
   "cell_type": "code",
   "execution_count": 63,
   "metadata": {},
   "outputs": [],
   "source": [
    "is_num = ['mileage', 'doors_count', 'year', 'displacement', 'power', 'owners']\n",
    "    \n",
    "as_category = list(set(test.columns) - set(is_num))\n",
    "# as_category"
   ]
  },
  {
   "cell_type": "code",
   "execution_count": 64,
   "metadata": {},
   "outputs": [],
   "source": [
    "for item in as_category:\n",
    "    test[item] = test[item].astype('category')"
   ]
  },
  {
   "cell_type": "code",
   "execution_count": 65,
   "metadata": {},
   "outputs": [],
   "source": [
    "### SAFETY FOR\n",
    "\n",
    "test_whole = test.copy()\n",
    "# test_whole[[\"climate-control\", \"front-camera\", \"advanced-frontlighting-system\"]]"
   ]
  },
  {
   "cell_type": "code",
   "execution_count": 66,
   "metadata": {},
   "outputs": [],
   "source": [
    "test = test_whole.copy()\n",
    "\n",
    "### DROP features with 0 importance\n",
    "test = test.drop([\"climate-control\", \"front-camera\", \"advanced-frontlighting-system\"], axis=1)\n",
    "# test[[\"climate-control\", \"front-camera\", \"advanced-frontlighting-system\"]]"
   ]
  },
  {
   "cell_type": "markdown",
   "metadata": {},
   "source": [
    "## 8.4 Создание \"заточенного под BMW\" обучающего набора"
   ]
  },
  {
   "cell_type": "code",
   "execution_count": 67,
   "metadata": {},
   "outputs": [
    {
     "name": "stdout",
     "output_type": "stream",
     "text": [
      "INITIAL          : 124360\n",
      "DROP PICKUP      : 118616\n",
      "ONLY BMW         :   8266\n",
      "DROP SOME MODELS :   6987\n",
      "DROP RIGHT WHEEL :   6985\n"
     ]
    }
   ],
   "source": [
    "### MARK : DATA CUT\n",
    "\n",
    "data_whole = data.copy()\n",
    "\n",
    "print(\"INITIAL          :\", len(data))\n",
    "\n",
    "data_bmw = data[ data['body_type'] != 'PICKUP' ]\n",
    "print(\"DROP PICKUP      :\", len(data_bmw))\n",
    "\n",
    "data_bmw = data_bmw[ data_bmw['mark'] == 'BMW']\n",
    "print(\"ONLY BMW         :  \", len(data_bmw))\n",
    "\n",
    "data_bmw = data_bmw[ data_bmw['model'].isin(test['model'].unique()) ]\n",
    "print(\"DROP SOME MODELS :  \", len(data_bmw))\n",
    "\n",
    "data_bmw = data_bmw[ data_bmw['steering_wheel'] == 'LEFT' ]\n",
    "print(\"DROP RIGHT WHEEL :  \", len(data_bmw))"
   ]
  },
  {
   "cell_type": "code",
   "execution_count": 68,
   "metadata": {},
   "outputs": [],
   "source": [
    "target_bmw = data_bmw['price'].copy()\n",
    "\n",
    "data_bmw_col = set(data_bmw.columns)\n",
    "test_col = set(test.columns)\n",
    "\n",
    "data_bmw = data_bmw.drop(list(data_bmw_col - test_col), axis=1)\n",
    "data_bmw['price'] = target_bmw\n",
    "# data_bmw"
   ]
  },
  {
   "cell_type": "markdown",
   "metadata": {},
   "source": [
    "В результате, датасет, предназначенный для предсказания содержит 3837 записей и 49 признаков.\n",
    "\n",
    "Обучающий датасет содержит 6985 записей, те же 49 признаков и целевой признак - цену."
   ]
  },
  {
   "cell_type": "code",
   "execution_count": 69,
   "metadata": {},
   "outputs": [
    {
     "data": {
      "image/png": "[encoded data removed]",
      "text/plain": [
       "<Figure size 1080x720 with 2 Axes>"
      ]
     },
     "metadata": {},
     "output_type": "display_data"
    },
    {
     "name": "stdout",
     "output_type": "stream",
     "text": [
      "==== price ====\n",
      "        count          mean           std      min       25%        50%  \\\n",
      "price  6985.0  1.854757e+06  1.843000e+06  60000.0  650000.0  1150000.0   \n",
      "\n",
      "             75%         max  \n",
      "price  2603800.0  16290000.0   \n",
      "\n",
      "There are 0 missing values in 'price'. \n",
      "\n",
      "\n"
     ]
    }
   ],
   "source": [
    "num_variable_analysis(data_bmw, target_name, target_name)"
   ]
  },
  {
   "cell_type": "markdown",
   "metadata": {},
   "source": [
    "**Важно!** Порядок столбцов в `test` и `data_bmw` (после исключением целевого признака) должен совпадать!"
   ]
  },
  {
   "cell_type": "code",
   "execution_count": 70,
   "metadata": {},
   "outputs": [],
   "source": [
    "test = test[ (data_bmw.drop([target_name], axis=1)).columns ]"
   ]
  },
  {
   "cell_type": "code",
   "execution_count": 71,
   "metadata": {},
   "outputs": [],
   "source": [
    "# data_bmw.to_csv(FILEPATH + \"cars_train_bmw.csv\")"
   ]
  },
  {
   "cell_type": "markdown",
   "metadata": {},
   "source": [
    "# 9 Реализация предсказателя для конкретной задачи - предсказание цен на BMW (Estimator realization for BMW price prediction)"
   ]
  },
  {
   "cell_type": "markdown",
   "metadata": {},
   "source": [
    "Поскольку предоставленные для предсказания данные имеют меньшее число признаков (как и, в общем-то, меньшее число имеющихся признаков) стоит обучить нашу модель на данных, соответствующих задаче - предсказать цены на автомобили BMW."
   ]
  },
  {
   "cell_type": "markdown",
   "metadata": {},
   "source": [
    "## 9.1 Создание обучающей и прочих выборок"
   ]
  },
  {
   "cell_type": "code",
   "execution_count": 72,
   "metadata": {},
   "outputs": [
    {
     "name": "stdout",
     "output_type": "stream",
     "text": [
      "We have 6985 entities total.\n",
      "We took 5238 entities for train dataset\n",
      "        1747 entities for valid dataset\n",
      "The target values in train are in range         [60000, 16290000] \n",
      "The target values in valid are in range         [75000, 14855700] \n",
      "The target values in whole dataset are in range [60000, 16290000] \n"
     ]
    }
   ],
   "source": [
    "# data_train_bmw, data_test_bmw = train_test_split(data_bmw, test_size=0.2, random_state=RANDOM_STATE)\n",
    "# data_train_bmw, data_valid_bmw = train_test_split(data_train_bmw, test_size=0.25, random_state=RANDOM_STATE)\n",
    "\n",
    "data_train_bmw, data_valid_bmw = train_test_split(data_bmw, test_size=0.25, random_state=RANDOM_STATE)\n",
    "\n",
    "print(\"We have {} entities total.\".format( len(data_bmw) ))\n",
    "print(\"We took {} entities for train dataset\".format( len(data_train_bmw)))\n",
    "print(\"        {} entities for valid dataset\".format( len(data_valid_bmw)))\n",
    "# print(\"        {} entities for test dataset\".format( len(data_test_bmw)))\n",
    "\n",
    "\n",
    "print(\"The target values in train are in range         [{}, {}] \"\n",
    "      .format( data_train_bmw[target_name].min(), data_train_bmw[target_name].max() ))\n",
    "print(\"The target values in valid are in range         [{}, {}] \"\n",
    "      .format( data_valid_bmw[target_name].min(), data_valid_bmw[target_name].max() ))\n",
    "# print(\"The target values in test are in range          [{}, {}] \"\n",
    "#       .format( data_test_bmw[target_name].min(), data_test_bmw[target_name].max() ))\n",
    "print(\"The target values in whole dataset are in range [{}, {}] \"\n",
    "      .format( data_bmw[target_name].min(), data_bmw[target_name].max() ))"
   ]
  },
  {
   "cell_type": "markdown",
   "metadata": {},
   "source": [
    "## 9.2 Оптимизация 'BMW'-предсказателя"
   ]
  },
  {
   "cell_type": "code",
   "execution_count": 73,
   "metadata": {},
   "outputs": [],
   "source": [
    "EstimatorClass = 'lgbm'\n",
    "\n",
    "\n",
    "\n",
    "### fixed parameters\n",
    "\n",
    "param_dict_fix = {}\n",
    "\n",
    "param_dict_fix['objective'] = OBJECTIVE\n",
    "# param_dict_fix['boosting_type'] = 'gbdt'\n",
    "param_dict_fix['random_state'] = RANDOM_STATE\n",
    "# param_dict_fix['silent'] = False\n",
    "param_dict_fix['free_raw_data'] = False\n",
    "\n",
    "param_dict_fix['n_estimators'] = 168\n",
    "param_dict_fix['learning_rate'] = 0.084\n",
    "# param_dict_fix['num_leaves'] = 26\n",
    "# param_dict_fix['min_data_in_leaf'] = 21\n",
    "param_dict_fix['max_depth'] = 13\n",
    "# param_dict_fix['max_depth'] = -1, ## no limit\n",
    "### limit the max depth for tree model. This is used to deal with over-fitting when #data is small. Tree still grows leaf-wise\n",
    "### <= 0 means no limit\n",
    "\n",
    "\n",
    "\n",
    "### variable parameters\n",
    "\n",
    "params_lim = {}\n",
    "\n",
    "### MARK: RANGE ADJUST\n",
    "params_lim['n_estimators'] = [159, 179, 'int']\n",
    "params_lim['learning_rate'] = [0.08, 0.10, 'float']\n",
    "params_lim['max_depth'] = [3, 23, 'int']\n",
    "\n",
    "### FULL SEARCH\n",
    "###\n",
    "# params_lim['n_estimators'] = [2, 4002, 'int']\n",
    "# params_lim['learning_rate'] = [0.001, 2.001, 'float']\n",
    "# params_lim['max_depth'] = [2, 102, 'int']\n",
    "# params_lim['num_leaves'] = [2, 127, 'int']\n",
    "# params_lim['min_data_in_leaf'] = [2, 202, 'int']"
   ]
  },
  {
   "cell_type": "code",
   "execution_count": 74,
   "metadata": {},
   "outputs": [
    {
     "name": "stdout",
     "output_type": "stream",
     "text": [
      "[0]\n",
      "params_limits : {'n_estimators': [159, 179, 'int'], 'learning_rate': [0.08, 0.1, 'float'], 'max_depth': [3, 23, 'int']}\n"
     ]
    },
    {
     "name": "stderr",
     "output_type": "stream",
     "text": [
      "C:\\Users\\DNS\\anaconda3\\lib\\site-packages\\lightgbm\\engine.py:148: UserWarning: Found `n_estimators` in params. Will use it instead of argument\n",
      "  warnings.warn(\"Found `{}` in params. Will use it instead of argument\".format(alias))\n"
     ]
    },
    {
     "name": "stdout",
     "output_type": "stream",
     "text": [
      "OUT [0]: M(i) = 1000000000.000000; M(i+1) = 11.760534 (tol=0.0001)\n",
      "result_dict {'n_estimators': 169, 'learning_rate': 0.084, 'max_depth': 13}\n",
      "Iteration time = 29.50 sec\n",
      "\n",
      " ~ ~ ~ ~ ~ ~ ~ ~ ~  \n",
      "\n",
      "[1]\n",
      "params_limits : {'n_estimators': [168, 170, 'int'], 'learning_rate': [0.083, 0.085, 'float'], 'max_depth': [12, 14, 'int']}\n",
      "OUT [1]: M(i) = 11.760534; M(i+1) = 11.760534 (tol=0.0001)\n",
      "result_dict {'n_estimators': 169, 'learning_rate': 0.084, 'max_depth': 13}\n",
      "Iteration time = 15.37 sec\n",
      "\n",
      " ~ ~ ~ ~ ~ ~ ~ ~ ~  \n",
      "\n",
      "11.760533800261182\n"
     ]
    },
    {
     "data": {
      "image/png": "[encoded data removed]",
      "text/plain": [
       "<Figure size 1152x576 with 1 Axes>"
      ]
     },
     "metadata": {},
     "output_type": "display_data"
    },
    {
     "name": "stdout",
     "output_type": "stream",
     "text": [
      "\n",
      "Done. Congratulations!\n",
      "==== ==== ==== ==== ==== \n",
      "The parameters of the best base BMW-model are:  {'n_estimators': 169, 'learning_rate': 0.084, 'max_depth': 13}\n",
      "The best base BMW-model has MAPE=11.7605\n",
      "Wall time: 45.3 s\n"
     ]
    }
   ],
   "source": [
    "%%time\n",
    "\n",
    "result = model_coord_search(EstimatorClass, param_dict_fix, params_lim, \n",
    "                            data_train_bmw, data_valid_bmw, target_name, N_SAMPLE_BASE, \n",
    "                            num_points=21,\n",
    "                            metrics_func=mean_absolute_percent_error, tol=0.0001, iter_lim=100, \n",
    "                            lgb_categorical_feature_list=CATEGORICAL_FEATURE_LIST_LGBM,  ## lgb_categorical_feature_list='auto',\n",
    "                            verbose_cycle=True, verbose_detail=False, \n",
    "                            visualize_cycle=True, visualize_detail=False)\n",
    "\n",
    "result_dict, metrics_out = result\n",
    "\n",
    "print(\"==== \"*5)\n",
    "print(\"The parameters of the best base BMW-model are: \", result_dict)\n",
    "print(\"The best base BMW-model has MAPE={:.4f}\".format(metrics_out))"
   ]
  },
  {
   "cell_type": "code",
   "execution_count": 75,
   "metadata": {
    "scrolled": true
   },
   "outputs": [
    {
     "name": "stdout",
     "output_type": "stream",
     "text": [
      "The best parameters for the base model are:  {'n_estimators': 169, 'learning_rate': 0.084, 'max_depth': 13}\n",
      "We have the MAPE = 11.7605 for the best base model. \n"
     ]
    }
   ],
   "source": [
    "best_base_bmw_model_mape = metrics_out\n",
    "best_base_bmw_parameters = result_dict\n",
    "print(\"The best parameters for the base model are: \", best_base_bmw_parameters)\n",
    "print(\"We have the MAPE = {:.4f} for the best base model. \".format(best_base_bmw_model_mape))"
   ]
  },
  {
   "cell_type": "markdown",
   "metadata": {},
   "source": [
    "## 9.3 Создание набора базовых моделей для мета-стадии"
   ]
  },
  {
   "cell_type": "code",
   "execution_count": 76,
   "metadata": {},
   "outputs": [
    {
     "data": {
      "text/plain": [
       "{'n_estimators': array([168, 169, 170]), 'max_depth': array([12, 13, 14])}"
      ]
     },
     "execution_count": 76,
     "metadata": {},
     "output_type": "execute_result"
    }
   ],
   "source": [
    "EstimatorClass = 'lgbm'\n",
    "\n",
    "\n",
    "\n",
    "### fixed parameters\n",
    "\n",
    "param_dict_fix = {}\n",
    "\n",
    "param_dict_fix['objective'] = OBJECTIVE\n",
    "# param_dict_fix['boosting_type'] = 'gbdt'\n",
    "param_dict_fix['random_state'] = RANDOM_STATE\n",
    "# param_dict_fix['silent'] = False\n",
    "param_dict_fix['free_raw_data'] = False\n",
    "\n",
    "param_dict_fix['n_estimators'] = 342\n",
    "param_dict_fix['learning_rate'] = best_base_bmw_parameters['learning_rate']  ## 0.08\n",
    "# param_dict_fix['num_leaves'] = 26\n",
    "# param_dict_fix['min_data_in_leaf'] = 21\n",
    "param_dict_fix['max_depth'] = 5\n",
    "\n",
    "\n",
    "# param_dict_fix['max_depth'] = -1, ## no limit\n",
    "\n",
    "\n",
    "\n",
    "### best optimised parameters\n",
    "\n",
    "n_es_0 = best_base_bmw_parameters['n_estimators']\n",
    "md_0 = best_base_bmw_parameters['max_depth']\n",
    "# lr_0 = np.round(best_parameters['learning_rate'], 9)\n",
    "# n_l_0 = best_parameters['num_leaves']\n",
    "# mdil_0 = best_parameters['min_data_in_leaf']\n",
    "\n",
    "params_optim = {}\n",
    "\n",
    "params_optim['n_estimators'] = np.linspace( max( [2, n_es_0-STEP_INT*(N_grid-1)/2] ),\n",
    "                                           max( [2, n_es_0-STEP_INT*(N_grid-1)/2] ) + STEP_INT*(N_grid-1), \n",
    "                                           num=N_grid, dtype='int' )\n",
    "params_optim['max_depth'] = np.linspace( max( [2, md_0-STEP_INT*(N_grid-1)/2] ), \n",
    "                                        max( [2, md_0-STEP_INT*(N_grid-1)/2] ) + STEP_INT*(N_grid-1),\n",
    "                                        num = N_grid, dtype='int'  )\n",
    "\n",
    "# params_optim['num_leaves'] = [max([2, n_l_0-STEP_INT]), n_l_0, n_l_0+STEP_INT ]\n",
    "# params_optim['min_data_in_leaf'] = [max([2, mdil_0-STEP_INT]), mdil_0, mdil_0+STEP_INT ]\n",
    "# params_optim['learning_rate'] = [ max(0.0001, np.round(lr_0-STEP_LR, 9)), lr_0, np.round(lr_0+STEP_LR, 9) ]\n",
    "\n",
    "# params_optim = {}\n",
    "# params_optim['n_estimators'] = [1482, 1483, 1484] ##2264\n",
    "# params_optim['max_depth'] = [10, 11, 12] ## 12\n",
    "# params_optim['learning_rate'] = [0.067, 0.068, 0.069] ## 0.099\n",
    "\n",
    "params_optim"
   ]
  },
  {
   "cell_type": "code",
   "execution_count": 77,
   "metadata": {
    "scrolled": true
   },
   "outputs": [
    {
     "name": "stdout",
     "output_type": "stream",
     "text": [
      "['n_estimators', 'max_depth', 'metrics', 'performance_time', 'model']\n"
     ]
    },
    {
     "name": "stderr",
     "output_type": "stream",
     "text": [
      "C:\\Users\\DNS\\anaconda3\\lib\\site-packages\\lightgbm\\engine.py:148: UserWarning: Found `n_estimators` in params. Will use it instead of argument\n",
      "  warnings.warn(\"Found `{}` in params. Will use it instead of argument\".format(alias))\n"
     ]
    },
    {
     "name": "stdout",
     "output_type": "stream",
     "text": [
      "[168, 12, 11.823211503055878, 0.5900392532348633, <lightgbm.basic.Booster object at 0x000001CF85CFBD08>]\n",
      "[168, 13, 11.76252657765951, 0.44658899307250977, <lightgbm.basic.Booster object at 0x000001CFFE115A88>]\n",
      "[168, 14, 11.81556877870219, 0.4470345973968506, <lightgbm.basic.Booster object at 0x000001CF862E8E48>]\n",
      "[169, 12, 11.822888279410629, 0.43408679962158203, <lightgbm.basic.Booster object at 0x000001CF865B3948>]\n",
      "[169, 13, 11.760533800261182, 0.43157958984375, <lightgbm.basic.Booster object at 0x000001CF865B6448>]\n",
      "[169, 14, 11.817678618688895, 0.40534472465515137, <lightgbm.basic.Booster object at 0x000001CFFE121508>]\n",
      "[170, 12, 11.828471995652254, 0.42760443687438965, <lightgbm.basic.Booster object at 0x000001CF80AC3888>]\n",
      "[170, 13, 11.761846418936535, 0.5030698776245117, <lightgbm.basic.Booster object at 0x000001CFFE3987C8>]\n",
      "[170, 14, 11.809120643209807, 0.644324541091919, <lightgbm.basic.Booster object at 0x000001CF815F9AC8>]\n",
      "Wall time: 4.43 s\n"
     ]
    }
   ],
   "source": [
    "%%time\n",
    "\n",
    "base_bmw_model_storage =  model_collector(EstimatorClass, param_dict_fix, params_optim, \n",
    "                          data_train_bmw, data_valid_bmw, target_name, N_SAMPLE_BASE, \n",
    "                          metrics_func=mean_absolute_percent_error,\n",
    "                          lgb_categorical_feature_list=CATEGORICAL_FEATURE_LIST_LGBM)"
   ]
  },
  {
   "cell_type": "code",
   "execution_count": 78,
   "metadata": {},
   "outputs": [],
   "source": [
    "base_bmw_model_storage = base_bmw_model_storage[ -base_bmw_model_storage['metrics'].duplicated() ]\n",
    "base_bmw_model_storage.reset_index(inplace=True)\n",
    "base_bmw_model_storage = base_bmw_model_storage.drop(['index'], axis=1)\n",
    "# base_bmw_model_storage"
   ]
  },
  {
   "cell_type": "markdown",
   "metadata": {},
   "source": [
    "## 9.4 About the best 'BMW' base model. Feature importance."
   ]
  },
  {
   "cell_type": "code",
   "execution_count": 79,
   "metadata": {},
   "outputs": [
    {
     "name": "stdout",
     "output_type": "stream",
     "text": [
      "Best base 'BMW' model demonstrates MAPE = 11.7605 with valid sample.\n"
     ]
    }
   ],
   "source": [
    "best_base_bmw_model = base_bmw_model_storage.loc[0, \"model\"]\n",
    "print(\"Best base 'BMW' model demonstrates MAPE = {:.4f} with valid sample.\"\n",
    "      .format(base_bmw_model_storage.loc[0, \"metrics\"]))"
   ]
  },
  {
   "cell_type": "code",
   "execution_count": 80,
   "metadata": {},
   "outputs": [
    {
     "data": {
      "text/html": [
       "<div>\n",
       "<style scoped>\n",
       "    .dataframe tbody tr th:only-of-type {\n",
       "        vertical-align: middle;\n",
       "    }\n",
       "\n",
       "    .dataframe tbody tr th {\n",
       "        vertical-align: top;\n",
       "    }\n",
       "\n",
       "    .dataframe thead th {\n",
       "        text-align: right;\n",
       "    }\n",
       "</style>\n",
       "<table border=\"1\" class=\"dataframe\">\n",
       "  <thead>\n",
       "    <tr style=\"text-align: right;\">\n",
       "      <th></th>\n",
       "      <th>Importance_(%)</th>\n",
       "    </tr>\n",
       "  </thead>\n",
       "  <tbody>\n",
       "    <tr>\n",
       "      <th>mileage</th>\n",
       "      <td>22.947908</td>\n",
       "    </tr>\n",
       "    <tr>\n",
       "      <th>year</th>\n",
       "      <td>19.159432</td>\n",
       "    </tr>\n",
       "    <tr>\n",
       "      <th>power</th>\n",
       "      <td>12.430939</td>\n",
       "    </tr>\n",
       "    <tr>\n",
       "      <th>displacement</th>\n",
       "      <td>7.537490</td>\n",
       "    </tr>\n",
       "    <tr>\n",
       "      <th>model</th>\n",
       "      <td>4.893449</td>\n",
       "    </tr>\n",
       "    <tr>\n",
       "      <th>color</th>\n",
       "      <td>3.433307</td>\n",
       "    </tr>\n",
       "    <tr>\n",
       "      <th>doors_count</th>\n",
       "      <td>3.216259</td>\n",
       "    </tr>\n",
       "    <tr>\n",
       "      <th>owners</th>\n",
       "      <td>2.071823</td>\n",
       "    </tr>\n",
       "    <tr>\n",
       "      <th>engine_type</th>\n",
       "      <td>1.874507</td>\n",
       "    </tr>\n",
       "    <tr>\n",
       "      <th>body_type</th>\n",
       "      <td>1.578532</td>\n",
       "    </tr>\n",
       "    <tr>\n",
       "      <th>gear_type</th>\n",
       "      <td>1.519337</td>\n",
       "    </tr>\n",
       "    <tr>\n",
       "      <th>navigation</th>\n",
       "      <td>1.341752</td>\n",
       "    </tr>\n",
       "    <tr>\n",
       "      <th>abs</th>\n",
       "      <td>1.203631</td>\n",
       "    </tr>\n",
       "    <tr>\n",
       "      <th>cruise-control</th>\n",
       "      <td>1.164167</td>\n",
       "    </tr>\n",
       "    <tr>\n",
       "      <th>transmission</th>\n",
       "      <td>0.947119</td>\n",
       "    </tr>\n",
       "    <tr>\n",
       "      <th>airbag-curtain</th>\n",
       "      <td>0.828729</td>\n",
       "    </tr>\n",
       "    <tr>\n",
       "      <th>xenon</th>\n",
       "      <td>0.808998</td>\n",
       "    </tr>\n",
       "    <tr>\n",
       "      <th>park-assist-r</th>\n",
       "      <td>0.789266</td>\n",
       "    </tr>\n",
       "    <tr>\n",
       "      <th>asr</th>\n",
       "      <td>0.769534</td>\n",
       "    </tr>\n",
       "    <tr>\n",
       "      <th>decorative-interior-lighting</th>\n",
       "      <td>0.769534</td>\n",
       "    </tr>\n",
       "  </tbody>\n",
       "</table>\n",
       "</div>"
      ],
      "text/plain": [
       "                              Importance_(%)\n",
       "mileage                            22.947908\n",
       "year                               19.159432\n",
       "power                              12.430939\n",
       "displacement                        7.537490\n",
       "model                               4.893449\n",
       "color                               3.433307\n",
       "doors_count                         3.216259\n",
       "owners                              2.071823\n",
       "engine_type                         1.874507\n",
       "body_type                           1.578532\n",
       "gear_type                           1.519337\n",
       "navigation                          1.341752\n",
       "abs                                 1.203631\n",
       "cruise-control                      1.164167\n",
       "transmission                        0.947119\n",
       "airbag-curtain                      0.828729\n",
       "xenon                               0.808998\n",
       "park-assist-r                       0.789266\n",
       "asr                                 0.769534\n",
       "decorative-interior-lighting        0.769534"
      ]
     },
     "execution_count": 80,
     "metadata": {},
     "output_type": "execute_result"
    }
   ],
   "source": [
    "feat_importances_best_base_bmw_model = pd.DataFrame(\n",
    "    data=100*best_base_bmw_model.feature_importance()/best_base_bmw_model.feature_importance().sum(), \n",
    "    index=data_train_bmw.drop([target_name], axis=1).columns, columns=['Importance_(%)'])\n",
    "\n",
    "feat_importances_best_base_bmw_model = feat_importances_best_base_bmw_model.sort_values(by='Importance_(%)', \n",
    "                                                                                        ascending=False)\n",
    "feat_importances_best_base_bmw_model.head(20)"
   ]
  },
  {
   "cell_type": "code",
   "execution_count": 81,
   "metadata": {},
   "outputs": [
    {
     "name": "stdout",
     "output_type": "stream",
     "text": [
      "Feature with zero importance:\n"
     ]
    },
    {
     "data": {
      "text/html": [
       "<div>\n",
       "<style scoped>\n",
       "    .dataframe tbody tr th:only-of-type {\n",
       "        vertical-align: middle;\n",
       "    }\n",
       "\n",
       "    .dataframe tbody tr th {\n",
       "        vertical-align: top;\n",
       "    }\n",
       "\n",
       "    .dataframe thead th {\n",
       "        text-align: right;\n",
       "    }\n",
       "</style>\n",
       "<table border=\"1\" class=\"dataframe\">\n",
       "  <thead>\n",
       "    <tr style=\"text-align: right;\">\n",
       "      <th></th>\n",
       "      <th>Importance_(%)</th>\n",
       "    </tr>\n",
       "  </thead>\n",
       "  <tbody>\n",
       "  </tbody>\n",
       "</table>\n",
       "</div>"
      ],
      "text/plain": [
       "Empty DataFrame\n",
       "Columns: [Importance_(%)]\n",
       "Index: []"
      ]
     },
     "execution_count": 81,
     "metadata": {},
     "output_type": "execute_result"
    }
   ],
   "source": [
    "print(\"Feature with zero importance:\")\n",
    "feat_importances_best_base_bmw_model[ feat_importances_best_base_bmw_model['Importance_(%)'] == 0 ]"
   ]
  },
  {
   "cell_type": "code",
   "execution_count": 82,
   "metadata": {},
   "outputs": [
    {
     "data": {
      "text/html": [
       "<div>\n",
       "<style scoped>\n",
       "    .dataframe tbody tr th:only-of-type {\n",
       "        vertical-align: middle;\n",
       "    }\n",
       "\n",
       "    .dataframe tbody tr th {\n",
       "        vertical-align: top;\n",
       "    }\n",
       "\n",
       "    .dataframe thead th {\n",
       "        text-align: right;\n",
       "    }\n",
       "</style>\n",
       "<table border=\"1\" class=\"dataframe\">\n",
       "  <thead>\n",
       "    <tr style=\"text-align: right;\">\n",
       "      <th></th>\n",
       "      <th>Importance_(%)</th>\n",
       "    </tr>\n",
       "  </thead>\n",
       "  <tbody>\n",
       "    <tr>\n",
       "      <th>esp</th>\n",
       "      <td>0.355170</td>\n",
       "    </tr>\n",
       "    <tr>\n",
       "      <th>lane-keeping-assist</th>\n",
       "      <td>0.335438</td>\n",
       "    </tr>\n",
       "    <tr>\n",
       "      <th>airbag-passenger</th>\n",
       "      <td>0.315706</td>\n",
       "    </tr>\n",
       "    <tr>\n",
       "      <th>activ-suspension</th>\n",
       "      <td>0.276243</td>\n",
       "    </tr>\n",
       "    <tr>\n",
       "      <th>multizone-climate-control</th>\n",
       "      <td>0.256511</td>\n",
       "    </tr>\n",
       "    <tr>\n",
       "      <th>condition</th>\n",
       "      <td>0.236780</td>\n",
       "    </tr>\n",
       "    <tr>\n",
       "      <th>drowsy-driver-alert-system</th>\n",
       "      <td>0.217048</td>\n",
       "    </tr>\n",
       "    <tr>\n",
       "      <th>laser-lights</th>\n",
       "      <td>0.118390</td>\n",
       "    </tr>\n",
       "    <tr>\n",
       "      <th>vsm</th>\n",
       "      <td>0.078927</td>\n",
       "    </tr>\n",
       "    <tr>\n",
       "      <th>collision-prevention-assist</th>\n",
       "      <td>0.059195</td>\n",
       "    </tr>\n",
       "  </tbody>\n",
       "</table>\n",
       "</div>"
      ],
      "text/plain": [
       "                             Importance_(%)\n",
       "esp                                0.355170\n",
       "lane-keeping-assist                0.335438\n",
       "airbag-passenger                   0.315706\n",
       "activ-suspension                   0.276243\n",
       "multizone-climate-control          0.256511\n",
       "condition                          0.236780\n",
       "drowsy-driver-alert-system         0.217048\n",
       "laser-lights                       0.118390\n",
       "vsm                                0.078927\n",
       "collision-prevention-assist        0.059195"
      ]
     },
     "execution_count": 82,
     "metadata": {},
     "output_type": "execute_result"
    }
   ],
   "source": [
    "feat_importances_best_base_bmw_model.tail(10)"
   ]
  },
  {
   "cell_type": "markdown",
   "metadata": {},
   "source": [
    "Удаление признаков с нулевой значимостью не меняет итоговое качество предсказания."
   ]
  },
  {
   "cell_type": "code",
   "execution_count": 83,
   "metadata": {},
   "outputs": [
    {
     "name": "stdout",
     "output_type": "stream",
     "text": [
      "The 'exponential decay length' is 11.43 'features'.\n",
      "A lack od features is about 1.8%.\n"
     ]
    }
   ],
   "source": [
    "z = feat_importances_best_base_bmw_model[(feat_importances_best_base_bmw_model['Importance_(%)'] != 0) & \n",
    "                                         (feat_importances_best_base_bmw_model['Importance_(%)'].notna())].values.flatten()\n",
    "y = np.log(z)\n",
    "x = np.arange(0, len(y))\n",
    "\n",
    "p = np.polyfit(x, y, 1)\n",
    "length = float(-1/p[0])\n",
    "feature_deficiency = 1/( np.exp(len(y)/length) - 1  )\n",
    "\n",
    "print(\"The 'exponential decay length' is {:.2f} 'features'.\".format( length ))\n",
    "print(\"A lack od features is about {:.1%}.\".format(float(feature_deficiency)))\n",
    "\n",
    "real_importance = np.exp( np.polyval(p, x) )"
   ]
  },
  {
   "cell_type": "code",
   "execution_count": 84,
   "metadata": {},
   "outputs": [
    {
     "name": "stdout",
     "output_type": "stream",
     "text": [
      "We need 46 instead of 46 (nonzero), which we have now for feature sufficiency of 99.0%, while now we have 98.2%.\n"
     ]
    }
   ],
   "source": [
    "feature_deficient = 0.01\n",
    "print(\"We need {} instead of {} (nonzero), which we have now for feature sufficiency of {:.1%}, while now we have {:.1%}.\"\n",
    "      .format( int(np.ceil( -length*np.log(feature_deficiency) )), len(x), \n",
    "              1-feature_deficient, 1-feature_deficiency ))"
   ]
  },
  {
   "cell_type": "code",
   "execution_count": 85,
   "metadata": {},
   "outputs": [],
   "source": [
    "ind_from = 6\n",
    "ind_to = -1\n",
    "x_app = x[ind_from:ind_to]\n",
    "y_app = y[ind_from:ind_to]\n",
    "p = np.polyfit(x_app, y_app, 1)\n",
    "real_importance = np.exp( np.polyval(p, x_app) )"
   ]
  },
  {
   "cell_type": "code",
   "execution_count": 86,
   "metadata": {},
   "outputs": [
    {
     "data": {
      "image/png": "[encoded data removed]",
      "text/plain": [
       "<Figure size 1152x1440 with 2 Axes>"
      ]
     },
     "metadata": {},
     "output_type": "display_data"
    }
   ],
   "source": [
    "fig, ax = plt.subplots(2, 1, figsize=(16, 20))\n",
    "plt.subplots_adjust(hspace=0.5)\n",
    "\n",
    "plt.subplot(2, 1, 1)\n",
    "plt.bar(x, z, label=\"Real\")\n",
    "plt.plot(x_app, real_importance, '-ro', label='Approximation with exp')\n",
    "plt.xticks(x, feat_importances_best_base_bmw_model.index, rotation=90)\n",
    "plt.legend()\n",
    "plt.title(\"Feature importance, %\")\n",
    "\n",
    "\n",
    "plt.subplot(2, 1, 2)\n",
    "plt.semilogy(x, z, '-bd', label=\"Real\")\n",
    "plt.semilogy(x_app, real_importance, '-ro', label='Approximation with exp')\n",
    "plt.xticks(x, feat_importances_best_base_bmw_model.index, rotation=90)\n",
    "plt.legend()\n",
    "plt.title(\"Feature importance, % (log scale)\")\n",
    "\n",
    "plt.show()"
   ]
  },
  {
   "cell_type": "code",
   "execution_count": 87,
   "metadata": {},
   "outputs": [
    {
     "name": "stdout",
     "output_type": "stream",
     "text": [
      "The range of prediction for Model No. 0 are: [120545.0, 13171840.0] with the width of 13051295.0\n",
      "The range of prediction for Model No. 1 are: [120926.0, 13172481.0] with the width of 13051555.0\n",
      "The range of prediction for Model No. 2 are: [120943.0, 13171814.0] with the width of 13050871.0\n"
     ]
    },
    {
     "data": {
      "image/png": "[encoded data removed]",
      "text/plain": [
       "<Figure size 1296x864 with 6 Axes>"
      ]
     },
     "metadata": {},
     "output_type": "display_data"
    }
   ],
   "source": [
    "df = base_bmw_model_storage\n",
    "\n",
    "\n",
    "n = min(3, len(df))\n",
    "\n",
    "fig, axes = plt.subplots(2, n, figsize=(6*n, 12) )\n",
    "\n",
    "for i in range(n):\n",
    "    model = df.loc[i, \"model\"]\n",
    "#     prediction = model.predict(data_valid1.drop([target_name], axis=1))\n",
    "#     prediction_log10 = model.predict(data_valid_bmw.drop([target_name], axis=1))\n",
    "#     prediction = 10**prediction_log10\n",
    "    prediction_transformed = model.predict(data_valid_bmw.drop([target_name], axis=1))\n",
    "    prediction = np.round(target_transform_inv(prediction_transformed, POWER)).astype(int)\n",
    "    \n",
    "    print(\"The range of prediction for Model No. {} are: [{:.1f}, {:.1f}] with the width of {:.1f}\"\n",
    "          .format( i, prediction.min(), prediction.max(), prediction.max()-prediction.min() ))\n",
    "    \n",
    "    plt.subplot(2, n, i+1)\n",
    "    sns.scatterplot(data_valid_bmw[target_name], prediction)\n",
    "    sns.scatterplot(data_valid_bmw[target_name], data_valid_bmw[target_name], marker='s')\n",
    "    plt.title(\"'BMW' model No.{}:\\n MAPE={:.4f}%\".format(i, df.loc[i, \"metrics\"]), fontsize=FONT_SIZE)\n",
    "    plt.xlabel(\"\", fontsize=FONT_SIZE)\n",
    "    if i == 0:\n",
    "        plt.ylabel(\"Predicted\", fontsize=FONT_SIZE)\n",
    "    else:\n",
    "        plt.ylabel(\"\", fontsize=FONT_SIZE)\n",
    "        \n",
    "    plt.subplot(2, n, n+i+1)\n",
    "    sns.scatterplot(data_valid_bmw[target_name], prediction - data_valid_bmw[target_name], color='g')\n",
    "    sns.scatterplot(data_valid_bmw[target_name], data_valid_bmw[target_name] - data_valid_bmw[target_name], \n",
    "                    marker='s', color='r')\n",
    "    plt.xlabel(\"True Price\", fontsize=FONT_SIZE)\n",
    "    if i == 0:\n",
    "        plt.ylabel(\"Predicted - True\", fontsize=FONT_SIZE)\n",
    "    else:\n",
    "        plt.ylabel(\"\", fontsize=FONT_SIZE)\n",
    "\n",
    "plt.show()"
   ]
  },
  {
   "cell_type": "markdown",
   "metadata": {},
   "source": [
    "## 9.6 Итоговое предсказание"
   ]
  },
  {
   "cell_type": "markdown",
   "metadata": {},
   "source": [
    "Однако в случае с BMW стекинг не сработал. Быть может не хватило данных. \n",
    "\n",
    "Поэтому возьмём предсказание лучшей модели."
   ]
  },
  {
   "cell_type": "code",
   "execution_count": 88,
   "metadata": {},
   "outputs": [
    {
     "name": "stdout",
     "output_type": "stream",
     "text": [
      "Our predictions:\n",
      "Min =      101562\n",
      "Mean =    1610488\n",
      "Median =  1194025\n",
      "Max =    13023565\n",
      "Wall time: 159 ms\n"
     ]
    },
    {
     "data": {
      "text/plain": [
       "array([1787176, 2712106, 1319795, ...,  516806, 1075302, 1045113])"
      ]
     },
     "execution_count": 88,
     "metadata": {},
     "output_type": "execute_result"
    }
   ],
   "source": [
    "%%time\n",
    "\n",
    "prediction_transformed = best_base_bmw_model.predict(test)\n",
    "our_prediction = np.round(target_transform_inv(prediction_transformed, POWER)).astype(int)\n",
    "\n",
    "# print(prediction_transformed.min(), prediction_transformed.mean(), prediction_transformed.max())\n",
    "print(\"Our predictions:\")\n",
    "print(\"Min =     \" , our_prediction.min())\n",
    "print(\"Mean =   \", int(our_prediction.mean()))\n",
    "print(\"Median = \", int(np.median(our_prediction)))\n",
    "print(\"Max =   \", int(our_prediction.max()))\n",
    "our_prediction"
   ]
  },
  {
   "cell_type": "code",
   "execution_count": 89,
   "metadata": {},
   "outputs": [
    {
     "data": {
      "text/html": [
       "<div>\n",
       "<style scoped>\n",
       "    .dataframe tbody tr th:only-of-type {\n",
       "        vertical-align: middle;\n",
       "    }\n",
       "\n",
       "    .dataframe tbody tr th {\n",
       "        vertical-align: top;\n",
       "    }\n",
       "\n",
       "    .dataframe thead th {\n",
       "        text-align: right;\n",
       "    }\n",
       "</style>\n",
       "<table border=\"1\" class=\"dataframe\">\n",
       "  <thead>\n",
       "    <tr style=\"text-align: right;\">\n",
       "      <th></th>\n",
       "      <th>price</th>\n",
       "    </tr>\n",
       "  </thead>\n",
       "  <tbody>\n",
       "    <tr>\n",
       "      <th>0</th>\n",
       "      <td>1787176</td>\n",
       "    </tr>\n",
       "    <tr>\n",
       "      <th>1</th>\n",
       "      <td>2712106</td>\n",
       "    </tr>\n",
       "    <tr>\n",
       "      <th>2</th>\n",
       "      <td>1319795</td>\n",
       "    </tr>\n",
       "    <tr>\n",
       "      <th>3</th>\n",
       "      <td>2501738</td>\n",
       "    </tr>\n",
       "    <tr>\n",
       "      <th>4</th>\n",
       "      <td>4856583</td>\n",
       "    </tr>\n",
       "    <tr>\n",
       "      <th>...</th>\n",
       "      <td>...</td>\n",
       "    </tr>\n",
       "    <tr>\n",
       "      <th>3832</th>\n",
       "      <td>1148852</td>\n",
       "    </tr>\n",
       "    <tr>\n",
       "      <th>3833</th>\n",
       "      <td>2704265</td>\n",
       "    </tr>\n",
       "    <tr>\n",
       "      <th>3834</th>\n",
       "      <td>516806</td>\n",
       "    </tr>\n",
       "    <tr>\n",
       "      <th>3835</th>\n",
       "      <td>1075302</td>\n",
       "    </tr>\n",
       "    <tr>\n",
       "      <th>3836</th>\n",
       "      <td>1045113</td>\n",
       "    </tr>\n",
       "  </tbody>\n",
       "</table>\n",
       "<p>3837 rows × 1 columns</p>\n",
       "</div>"
      ],
      "text/plain": [
       "        price\n",
       "0     1787176\n",
       "1     2712106\n",
       "2     1319795\n",
       "3     2501738\n",
       "4     4856583\n",
       "...       ...\n",
       "3832  1148852\n",
       "3833  2704265\n",
       "3834   516806\n",
       "3835  1075302\n",
       "3836  1045113\n",
       "\n",
       "[3837 rows x 1 columns]"
      ]
     },
     "execution_count": 89,
     "metadata": {},
     "output_type": "execute_result"
    }
   ],
   "source": [
    "our_prediction_df = pd.DataFrame([our_prediction]).T\n",
    "our_prediction_df = our_prediction_df.reset_index(drop=True)\n",
    "our_prediction_df.columns=[target_name]\n",
    "our_prediction_df"
   ]
  },
  {
   "cell_type": "code",
   "execution_count": 90,
   "metadata": {},
   "outputs": [
    {
     "name": "stdout",
     "output_type": "stream",
     "text": [
      "<class 'pandas.core.frame.DataFrame'>\n",
      "RangeIndex: 3837 entries, 0 to 3836\n",
      "Data columns (total 1 columns):\n",
      " #   Column  Non-Null Count  Dtype\n",
      "---  ------  --------------  -----\n",
      " 0   price   3837 non-null   int64\n",
      "dtypes: int64(1)\n",
      "memory usage: 30.1 KB\n"
     ]
    }
   ],
   "source": [
    "our_prediction_df.info()"
   ]
  },
  {
   "cell_type": "code",
   "execution_count": 91,
   "metadata": {},
   "outputs": [
    {
     "data": {
      "image/png": "[encoded data removed]",
      "text/plain": [
       "<Figure size 1080x720 with 2 Axes>"
      ]
     },
     "metadata": {},
     "output_type": "display_data"
    },
    {
     "name": "stdout",
     "output_type": "stream",
     "text": [
      "==== price ====\n",
      "        count          mean           std       min       25%        50%  \\\n",
      "price  3837.0  1.610489e+06  1.318518e+06  101562.0  783181.0  1194025.0   \n",
      "\n",
      "             75%         max  \n",
      "price  1950884.0  13023565.0   \n",
      "\n",
      "There are 0 missing values in 'price'. \n",
      "\n",
      "\n"
     ]
    }
   ],
   "source": [
    "num_variable_analysis(our_prediction_df, target_name, target_name)"
   ]
  },
  {
   "cell_type": "code",
   "execution_count": null,
   "metadata": {},
   "outputs": [],
   "source": []
  },
  {
   "cell_type": "markdown",
   "metadata": {},
   "source": [
    "<div class=\"alert alert-block alert-info\">\n",
    "<div style=\"border:solid blue 2px; padding: 20px\"> <h1 style=\"color:blue; margin-bottom:20px\">\n",
    "99 Results</h1>\n",
    "\n",
    "</div>"
   ]
  },
  {
   "cell_type": "code",
   "execution_count": 92,
   "metadata": {},
   "outputs": [],
   "source": [
    "def two_digit_presentation(x):\n",
    "    if x < 10:\n",
    "        return \"0\" + str(x)\n",
    "    else:\n",
    "        return str(x)\n",
    "    \n",
    "\n",
    "    \n",
    "def two_digit_time_presentation(x):\n",
    "    hours = x//3600\n",
    "    minutes = ( x - 3600*hours) // 60\n",
    "    seconds = x - 3600*hours - 60*minutes\n",
    "    if hours > 0:\n",
    "        ans = (two_digit_presentation(int(hours)) +  \" h \" \n",
    "               + two_digit_presentation(int(minutes)) + \" min \" \n",
    "               + two_digit_presentation(int(seconds)) + \" sec\")\n",
    "    elif minutes > 0:\n",
    "        ans = (two_digit_presentation(int(minutes)) + \" min \" \n",
    "               + two_digit_presentation(int(seconds)) + \" sec\")\n",
    "    else:\n",
    "        ans = (two_digit_presentation(round(seconds, 3)) + \" sec\")\n",
    "    return ans"
   ]
  },
  {
   "cell_type": "code",
   "execution_count": 93,
   "metadata": {},
   "outputs": [
    {
     "name": "stdout",
     "output_type": "stream",
     "text": [
      "Best model demonstrates MAPE = 11.7605 with valid sample.\n"
     ]
    }
   ],
   "source": [
    "print(\"Best model demonstrates MAPE = {:.4f} with valid sample.\"\n",
    "      .format(base_bmw_model_storage.loc[0, \"metrics\"]))"
   ]
  },
  {
   "cell_type": "code",
   "execution_count": 94,
   "metadata": {},
   "outputs": [
    {
     "name": "stdout",
     "output_type": "stream",
     "text": [
      "The code was launched on               03 August 2020 at 22:55\n",
      "The code finished its performance on   03 August 2020 at 22:58\n",
      "\n",
      "The full performance time is 03 min 02 sec\n"
     ]
    }
   ],
   "source": [
    "performance_time = time.time() - total_time_start\n",
    "\n",
    "time_string_launch = date_start.strftime(\"%d %B %Y\") + \" at \" + time_start.strftime(\"%H:%M\")\n",
    "\n",
    "date_finish = datetime.date.today()\n",
    "time_finish = datetime.datetime.now().time()\n",
    "time_string_finish = date_finish.strftime(\"%d %B %Y\") + \" at \" + time_finish.strftime(\"%H:%M\")\n",
    "\n",
    "\n",
    "print( \"The code was launched on              \", time_string_launch )\n",
    "print( \"The code finished its performance on  \", time_string_finish )\n",
    "print()\n",
    "print( \"The full performance time is \" + two_digit_time_presentation( performance_time ) )"
   ]
  },
  {
   "cell_type": "code",
   "execution_count": 95,
   "metadata": {},
   "outputs": [
    {
     "ename": "NameError",
     "evalue": "name 'yooo' is not defined",
     "output_type": "error",
     "traceback": [
      "\u001b[1;31m---------------------------------------------------------------------------\u001b[0m",
      "\u001b[1;31mNameError\u001b[0m                                 Traceback (most recent call last)",
      "\u001b[1;32m<ipython-input-95-67de7a1dafde>\u001b[0m in \u001b[0;36m<module>\u001b[1;34m\u001b[0m\n\u001b[1;32m----> 1\u001b[1;33m \u001b[0myooo\u001b[0m\u001b[1;33m\u001b[0m\u001b[1;33m\u001b[0m\u001b[0m\n\u001b[0m",
      "\u001b[1;31mNameError\u001b[0m: name 'yooo' is not defined"
     ]
    }
   ],
   "source": [
    "yooo"
   ]
  },
  {
   "cell_type": "code",
   "execution_count": null,
   "metadata": {},
   "outputs": [],
   "source": [
    "our_prediction_df"
   ]
  },
  {
   "cell_type": "code",
   "execution_count": null,
   "metadata": {},
   "outputs": [],
   "source": [
    "our_prediction_df.to_csv(FILEPATH + \"our_prediction.csv\", index_label = 'id')"
   ]
  },
  {
   "cell_type": "code",
   "execution_count": null,
   "metadata": {},
   "outputs": [],
   "source": [
    "check = pd.read_csv(FILEPATH + \"our_prediction.csv\")\n",
    "check"
   ]
  },
  {
   "cell_type": "markdown",
   "metadata": {},
   "source": [
    "## Appendix: Что ещё можно было бы сделать"
   ]
  },
  {
   "cell_type": "markdown",
   "metadata": {},
   "source": [
    "1. Рефакторинг кода: есть остатки от предыдущих исследований с \"висящими хвостами\" (especially for the common case).\n",
    "2. Сделать класс предсказателя:\n",
    "  - принимает на вход параметры;\n",
    "  - имеет метод `fit` (input: features_train, target_train);\n",
    "  - имеет метод `predict` (input: features);\n",
    "  - имеет метод `optimize` (желательно);\n",
    "  - имеет метод `feature_importance` (желательно).\n",
    "3. Написать толковые \"доки\" к полезным функциям"
   ]
  },
  {
   "cell_type": "code",
   "execution_count": null,
   "metadata": {},
   "outputs": [],
   "source": []
  }
 ],
 "metadata": {
  "kernelspec": {
   "display_name": "Python 3",
   "language": "python",
   "name": "python3"
  },
  "language_info": {
   "codemirror_mode": {
    "name": "ipython",
    "version": 3
   },
   "file_extension": ".py",
   "mimetype": "text/x-python",
   "name": "python",
   "nbconvert_exporter": "python",
   "pygments_lexer": "ipython3",
   "version": "3.7.7"
  }
 },
 "nbformat": 4,
 "nbformat_minor": 2
}
